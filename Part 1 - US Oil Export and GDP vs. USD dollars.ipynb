{
 "cells": [
  {
   "cell_type": "markdown",
   "metadata": {},
   "source": [
    "# TABLE 1 CLEAN UP\n",
    "----"
   ]
  },
  {
   "cell_type": "code",
   "execution_count": 42,
   "metadata": {},
   "outputs": [],
   "source": [
    "import os\n",
    "import csv\n",
    "import pandas as pd\n",
    "import datetime as dt\n",
    "import matplotlib.pyplot as plt\n",
    "import numpy as np\n",
    "# %matplotlib notebook                 "
   ]
  },
  {
   "cell_type": "code",
   "execution_count": 43,
   "metadata": {},
   "outputs": [],
   "source": [
    "#Open reosurces file\n",
    "table1_path = os.path.join(\"Resources\", \"Raw Data\", \"Table 1 - US-oilexports.csv\")"
   ]
  },
  {
   "cell_type": "code",
   "execution_count": 44,
   "metadata": {},
   "outputs": [
    {
     "output_type": "execute_result",
     "data": {
      "text/plain": [
       "       Date  U.S. Exports of Crude Oil (Thousand Barrels)\n",
       "0  Jan-1920                                         469.0\n",
       "1  Feb-1920                                         853.0\n",
       "2  Mar-1920                                         892.0\n",
       "3  Apr-1920                                         693.0\n",
       "4  May-1920                                         761.0\n",
       "5  Jun-1920                                         627.0\n",
       "6  Jul-1920                                         723.0\n",
       "7  Aug-1920                                         553.0\n",
       "8  Sep-1920                                         790.0\n",
       "9  Oct-1920                                         777.0"
      ],
      "text/html": "<div>\n<style scoped>\n    .dataframe tbody tr th:only-of-type {\n        vertical-align: middle;\n    }\n\n    .dataframe tbody tr th {\n        vertical-align: top;\n    }\n\n    .dataframe thead th {\n        text-align: right;\n    }\n</style>\n<table border=\"1\" class=\"dataframe\">\n  <thead>\n    <tr style=\"text-align: right;\">\n      <th></th>\n      <th>Date</th>\n      <th>U.S. Exports of Crude Oil (Thousand Barrels)</th>\n    </tr>\n  </thead>\n  <tbody>\n    <tr>\n      <th>0</th>\n      <td>Jan-1920</td>\n      <td>469.0</td>\n    </tr>\n    <tr>\n      <th>1</th>\n      <td>Feb-1920</td>\n      <td>853.0</td>\n    </tr>\n    <tr>\n      <th>2</th>\n      <td>Mar-1920</td>\n      <td>892.0</td>\n    </tr>\n    <tr>\n      <th>3</th>\n      <td>Apr-1920</td>\n      <td>693.0</td>\n    </tr>\n    <tr>\n      <th>4</th>\n      <td>May-1920</td>\n      <td>761.0</td>\n    </tr>\n    <tr>\n      <th>5</th>\n      <td>Jun-1920</td>\n      <td>627.0</td>\n    </tr>\n    <tr>\n      <th>6</th>\n      <td>Jul-1920</td>\n      <td>723.0</td>\n    </tr>\n    <tr>\n      <th>7</th>\n      <td>Aug-1920</td>\n      <td>553.0</td>\n    </tr>\n    <tr>\n      <th>8</th>\n      <td>Sep-1920</td>\n      <td>790.0</td>\n    </tr>\n    <tr>\n      <th>9</th>\n      <td>Oct-1920</td>\n      <td>777.0</td>\n    </tr>\n  </tbody>\n</table>\n</div>"
     },
     "metadata": {},
     "execution_count": 44
    }
   ],
   "source": [
    "# Read csv\n",
    "table1_data = pd.read_csv(table1_path, header=0, skiprows=2)\n",
    "\n",
    "# Extract column of interest\n",
    "table1_df = pd.DataFrame(table1_data, columns= ['Date','U.S. Exports of Crude Oil (Thousand Barrels)'])\n",
    "table1_df.head(10)"
   ]
  },
  {
   "cell_type": "code",
   "execution_count": 45,
   "metadata": {},
   "outputs": [],
   "source": [
    "date = table1_df[\"Date\"]\n",
    "crude_export = table1_df[\"U.S. Exports of Crude Oil (Thousand Barrels)\"]\n",
    "\n",
    "# Since date is in MMM-YYYY format, convert to dtype Datetime64[ns]\n",
    "date_64ns = pd.to_datetime(table1_df[\"Date\"])\n"
   ]
  },
  {
   "cell_type": "code",
   "execution_count": 46,
   "metadata": {},
   "outputs": [],
   "source": [
    "# Get rid of the minutes and seconds\n",
    "formated_date_list = []\n",
    "\n",
    "for item in date_64ns:\n",
    "    date_clean = str(item)[:10]\n",
    "    formated_date_list.append(date_clean)\n"
   ]
  },
  {
   "cell_type": "code",
   "execution_count": 47,
   "metadata": {},
   "outputs": [
    {
     "output_type": "execute_result",
     "data": {
      "text/plain": [
       "         Date  U.S. Exports of Crude Oil (Thousand Barrels)\n",
       "0  1920-01-01                                         469.0\n",
       "1  1920-02-01                                         853.0\n",
       "2  1920-03-01                                         892.0\n",
       "3  1920-04-01                                         693.0\n",
       "4  1920-05-01                                         761.0"
      ],
      "text/html": "<div>\n<style scoped>\n    .dataframe tbody tr th:only-of-type {\n        vertical-align: middle;\n    }\n\n    .dataframe tbody tr th {\n        vertical-align: top;\n    }\n\n    .dataframe thead th {\n        text-align: right;\n    }\n</style>\n<table border=\"1\" class=\"dataframe\">\n  <thead>\n    <tr style=\"text-align: right;\">\n      <th></th>\n      <th>Date</th>\n      <th>U.S. Exports of Crude Oil (Thousand Barrels)</th>\n    </tr>\n  </thead>\n  <tbody>\n    <tr>\n      <th>0</th>\n      <td>1920-01-01</td>\n      <td>469.0</td>\n    </tr>\n    <tr>\n      <th>1</th>\n      <td>1920-02-01</td>\n      <td>853.0</td>\n    </tr>\n    <tr>\n      <th>2</th>\n      <td>1920-03-01</td>\n      <td>892.0</td>\n    </tr>\n    <tr>\n      <th>3</th>\n      <td>1920-04-01</td>\n      <td>693.0</td>\n    </tr>\n    <tr>\n      <th>4</th>\n      <td>1920-05-01</td>\n      <td>761.0</td>\n    </tr>\n  </tbody>\n</table>\n</div>"
     },
     "metadata": {},
     "execution_count": 47
    }
   ],
   "source": [
    "# Create new data, Date is in datetime type\n",
    "table1_df_clean =  pd.DataFrame({\n",
    "                        \"Date\": formated_date_list,\n",
    "                        \"U.S. Exports of Crude Oil (Thousand Barrels)\": crude_export\n",
    "                       })\n",
    "\n",
    "\n",
    "\n",
    "#Drop NaN rows\n",
    "table1_df_clean.dropna(inplace=True) \n",
    "table1_df_clean.head()"
   ]
  },
  {
   "cell_type": "code",
   "execution_count": 48,
   "metadata": {},
   "outputs": [],
   "source": [
    "# Convert date to datetime dtype and format YY-MM-DD\n",
    "table1_df_clean['Date_dt'] = pd.to_datetime(table1_df_clean['Date'], format='%Y-%m-%d')"
   ]
  },
  {
   "cell_type": "code",
   "execution_count": 49,
   "metadata": {},
   "outputs": [
    {
     "output_type": "execute_result",
     "data": {
      "text/plain": [
       "Date                                            datetime64[ns]\n",
       "U.S. Exports of Crude Oil (Thousand Barrels)           float64\n",
       "dtype: object"
      ]
     },
     "metadata": {},
     "execution_count": 49
    }
   ],
   "source": [
    "#Set start date\n",
    "sdate = dt.datetime(2005,1,1)   # start date\n",
    "edate = dt.datetime(2019,12,30)   # end date\n",
    "\n",
    "table1_range = table1_df_clean[(table1_df_clean['Date_dt']>=sdate ) & (table1_df_clean['Date_dt']<= edate)]\n",
    "table1_clean = table1_range[[\"Date_dt\", \"U.S. Exports of Crude Oil (Thousand Barrels)\"]]\n",
    "table1_final = table1_clean.rename(columns={ \"Date_dt\" : \"Date\"})\n",
    "table1_final.dtypes"
   ]
  },
  {
   "cell_type": "code",
   "execution_count": 50,
   "metadata": {},
   "outputs": [],
   "source": [
    "# Export leaned table 1 to csv\n",
    "table1_final.to_csv(\"Resources/Clean Data/Table 1.csv\", index=False)                "
   ]
  },
  {
   "cell_type": "code",
   "execution_count": 51,
   "metadata": {},
   "outputs": [],
   "source": [
    "# This analysis only includes Crude Oil and exclude NG exports"
   ]
  },
  {
   "cell_type": "markdown",
   "metadata": {},
   "source": [
    "# TABLE 1B CLEAN UP"
   ]
  },
  {
   "cell_type": "code",
   "execution_count": 52,
   "metadata": {},
   "outputs": [],
   "source": [
    "table1B_path = os.path.join(\"Resources\", \"Raw Data\", \"Table 1B - U.S._Field_Production_of_Crude_Oil.csv\")"
   ]
  },
  {
   "cell_type": "code",
   "execution_count": 53,
   "metadata": {},
   "outputs": [
    {
     "output_type": "execute_result",
     "data": {
      "text/plain": [
       "        Date  U.S. Field Production of Crude Oil Thousand Barrels per Day\n",
       "0     Aug-20                                              10579          \n",
       "1     Jul-20                                              10980          \n",
       "2     Jun-20                                              10442          \n",
       "3     May-20                                              10019          \n",
       "4     Apr-20                                              12010          \n",
       "...      ...                                                ...          \n",
       "1203  May-20                                               1181          \n",
       "1204  Apr-20                                               1165          \n",
       "1205  Mar-20                                               1167          \n",
       "1206  Feb-20                                               1145          \n",
       "1207  Jan-20                                               1097          \n",
       "\n",
       "[1208 rows x 2 columns]"
      ],
      "text/html": "<div>\n<style scoped>\n    .dataframe tbody tr th:only-of-type {\n        vertical-align: middle;\n    }\n\n    .dataframe tbody tr th {\n        vertical-align: top;\n    }\n\n    .dataframe thead th {\n        text-align: right;\n    }\n</style>\n<table border=\"1\" class=\"dataframe\">\n  <thead>\n    <tr style=\"text-align: right;\">\n      <th></th>\n      <th>Date</th>\n      <th>U.S. Field Production of Crude Oil Thousand Barrels per Day</th>\n    </tr>\n  </thead>\n  <tbody>\n    <tr>\n      <th>0</th>\n      <td>Aug-20</td>\n      <td>10579</td>\n    </tr>\n    <tr>\n      <th>1</th>\n      <td>Jul-20</td>\n      <td>10980</td>\n    </tr>\n    <tr>\n      <th>2</th>\n      <td>Jun-20</td>\n      <td>10442</td>\n    </tr>\n    <tr>\n      <th>3</th>\n      <td>May-20</td>\n      <td>10019</td>\n    </tr>\n    <tr>\n      <th>4</th>\n      <td>Apr-20</td>\n      <td>12010</td>\n    </tr>\n    <tr>\n      <th>...</th>\n      <td>...</td>\n      <td>...</td>\n    </tr>\n    <tr>\n      <th>1203</th>\n      <td>May-20</td>\n      <td>1181</td>\n    </tr>\n    <tr>\n      <th>1204</th>\n      <td>Apr-20</td>\n      <td>1165</td>\n    </tr>\n    <tr>\n      <th>1205</th>\n      <td>Mar-20</td>\n      <td>1167</td>\n    </tr>\n    <tr>\n      <th>1206</th>\n      <td>Feb-20</td>\n      <td>1145</td>\n    </tr>\n    <tr>\n      <th>1207</th>\n      <td>Jan-20</td>\n      <td>1097</td>\n    </tr>\n  </tbody>\n</table>\n<p>1208 rows × 2 columns</p>\n</div>"
     },
     "metadata": {},
     "execution_count": 53
    }
   ],
   "source": [
    "# Read csv\n",
    "table1B_data = pd.read_csv(table1B_path, header=0, skiprows=4)\n",
    "\n",
    "# Extract column of interest\n",
    "table1B_df = pd.DataFrame(table1B_data)\n",
    "\n",
    "table1B_rename = table1B_df.rename(columns={ \"Month\" : \"Date\"})\n",
    "\n",
    "table1B_rename"
   ]
  },
  {
   "cell_type": "code",
   "execution_count": 54,
   "metadata": {},
   "outputs": [
    {
     "output_type": "execute_result",
     "data": {
      "text/plain": [
       "Date                                                           datetime64[ns]\n",
       "U.S. Field Production of Crude Oil Thousand Barrels per Day             int64\n",
       "dtype: object"
      ]
     },
     "metadata": {},
     "execution_count": 54
    }
   ],
   "source": [
    "table1B_rename['Date'] = pd.to_datetime(table1B_rename[\"Date\"], format='%b-%y')\n",
    "table1B_rename.head()\n",
    "table1B_rename.dtypes"
   ]
  },
  {
   "cell_type": "code",
   "execution_count": 55,
   "metadata": {},
   "outputs": [
    {
     "output_type": "execute_result",
     "data": {
      "text/plain": [
       "        Date  U.S. Exports of Crude Oil (Thousand Barrels)  \\\n",
       "0 2005-01-01                                        1239.0   \n",
       "1 2005-02-01                                         541.0   \n",
       "2 2005-03-01                                        1111.0   \n",
       "3 2005-04-01                                        1345.0   \n",
       "4 2005-05-01                                        1694.0   \n",
       "\n",
       "   U.S. Field Production of Crude Oil Thousand Barrels per Day  \n",
       "0                                               5446            \n",
       "1                                               5501            \n",
       "2                                               5601            \n",
       "3                                               5563            \n",
       "4                                               5596            "
      ],
      "text/html": "<div>\n<style scoped>\n    .dataframe tbody tr th:only-of-type {\n        vertical-align: middle;\n    }\n\n    .dataframe tbody tr th {\n        vertical-align: top;\n    }\n\n    .dataframe thead th {\n        text-align: right;\n    }\n</style>\n<table border=\"1\" class=\"dataframe\">\n  <thead>\n    <tr style=\"text-align: right;\">\n      <th></th>\n      <th>Date</th>\n      <th>U.S. Exports of Crude Oil (Thousand Barrels)</th>\n      <th>U.S. Field Production of Crude Oil Thousand Barrels per Day</th>\n    </tr>\n  </thead>\n  <tbody>\n    <tr>\n      <th>0</th>\n      <td>2005-01-01</td>\n      <td>1239.0</td>\n      <td>5446</td>\n    </tr>\n    <tr>\n      <th>1</th>\n      <td>2005-02-01</td>\n      <td>541.0</td>\n      <td>5501</td>\n    </tr>\n    <tr>\n      <th>2</th>\n      <td>2005-03-01</td>\n      <td>1111.0</td>\n      <td>5601</td>\n    </tr>\n    <tr>\n      <th>3</th>\n      <td>2005-04-01</td>\n      <td>1345.0</td>\n      <td>5563</td>\n    </tr>\n    <tr>\n      <th>4</th>\n      <td>2005-05-01</td>\n      <td>1694.0</td>\n      <td>5596</td>\n    </tr>\n  </tbody>\n</table>\n</div>"
     },
     "metadata": {},
     "execution_count": 55
    }
   ],
   "source": [
    "merge_1_1B = pd.merge(table1_final, table1B_rename, on=\"Date\", how=\"left\")\n",
    "merge_1_1B.head()"
   ]
  },
  {
   "cell_type": "code",
   "execution_count": 56,
   "metadata": {},
   "outputs": [],
   "source": [
    "# Export 1b csv\n",
    "table1B_rename.to_csv(\"Resources/Clean Data/Table 1b.csv\", index=False)  "
   ]
  },
  {
   "cell_type": "markdown",
   "metadata": {},
   "source": [
    "# TABLE 3 CLEAN UP\n",
    "-----\n",
    "This table contains **US dollar index**."
   ]
  },
  {
   "cell_type": "code",
   "execution_count": 57,
   "metadata": {},
   "outputs": [],
   "source": [
    "#Open reosurces file\n",
    "table3_path = os.path.join(\"Resources\", \"Raw Data\", \"Table 3 - US-dollar-index-historical-chart.csv\")"
   ]
  },
  {
   "cell_type": "code",
   "execution_count": 58,
   "metadata": {},
   "outputs": [],
   "source": [
    "# Read csv\n",
    "table3_data = pd.read_csv(table3_path, header=0, skiprows=15)\n",
    "\n",
    "# Extract column of interest\n",
    "table3_df = pd.DataFrame(table3_data).reset_index(drop=True)"
   ]
  },
  {
   "cell_type": "code",
   "execution_count": 59,
   "metadata": {},
   "outputs": [],
   "source": [
    "# Convert date to datetime dtype and format YY-MM-DD\n",
    "table3_df['Date_dt'] = pd.to_datetime(table3_df['date'], format='%Y-%m-%d')"
   ]
  },
  {
   "cell_type": "code",
   "execution_count": 60,
   "metadata": {},
   "outputs": [
    {
     "output_type": "execute_result",
     "data": {
      "text/plain": [
       "          Date  US Dollars Index\n",
       "384 2005-01-01            95.450\n",
       "385 2005-02-01            95.698\n",
       "386 2005-03-01            95.307\n",
       "387 2005-04-01            96.234\n",
       "388 2005-05-01            96.470\n",
       "..         ...               ...\n",
       "559 2019-08-01           102.809\n",
       "560 2019-09-01           102.766\n",
       "561 2019-10-01           102.203\n",
       "562 2019-11-01           101.954\n",
       "563 2019-12-01           101.464\n",
       "\n",
       "[180 rows x 2 columns]"
      ],
      "text/html": "<div>\n<style scoped>\n    .dataframe tbody tr th:only-of-type {\n        vertical-align: middle;\n    }\n\n    .dataframe tbody tr th {\n        vertical-align: top;\n    }\n\n    .dataframe thead th {\n        text-align: right;\n    }\n</style>\n<table border=\"1\" class=\"dataframe\">\n  <thead>\n    <tr style=\"text-align: right;\">\n      <th></th>\n      <th>Date</th>\n      <th>US Dollars Index</th>\n    </tr>\n  </thead>\n  <tbody>\n    <tr>\n      <th>384</th>\n      <td>2005-01-01</td>\n      <td>95.450</td>\n    </tr>\n    <tr>\n      <th>385</th>\n      <td>2005-02-01</td>\n      <td>95.698</td>\n    </tr>\n    <tr>\n      <th>386</th>\n      <td>2005-03-01</td>\n      <td>95.307</td>\n    </tr>\n    <tr>\n      <th>387</th>\n      <td>2005-04-01</td>\n      <td>96.234</td>\n    </tr>\n    <tr>\n      <th>388</th>\n      <td>2005-05-01</td>\n      <td>96.470</td>\n    </tr>\n    <tr>\n      <th>...</th>\n      <td>...</td>\n      <td>...</td>\n    </tr>\n    <tr>\n      <th>559</th>\n      <td>2019-08-01</td>\n      <td>102.809</td>\n    </tr>\n    <tr>\n      <th>560</th>\n      <td>2019-09-01</td>\n      <td>102.766</td>\n    </tr>\n    <tr>\n      <th>561</th>\n      <td>2019-10-01</td>\n      <td>102.203</td>\n    </tr>\n    <tr>\n      <th>562</th>\n      <td>2019-11-01</td>\n      <td>101.954</td>\n    </tr>\n    <tr>\n      <th>563</th>\n      <td>2019-12-01</td>\n      <td>101.464</td>\n    </tr>\n  </tbody>\n</table>\n<p>180 rows × 2 columns</p>\n</div>"
     },
     "metadata": {},
     "execution_count": 60
    }
   ],
   "source": [
    "#Set start date\n",
    "sdate = dt.datetime(2005,1,1)   # start date\n",
    "edate = dt.datetime(2019,12,30)   # end date\n",
    "\n",
    "table3_range = table3_df[(table3_df['Date_dt']>=sdate ) & (table3_df['Date_dt']<= edate)]\n",
    "\n",
    "\n",
    "# Change header name\n",
    "table3_clean = table3_range.rename(columns={ \"Date_dt\" : \"Date\", \" value\" : \"US Dollars Index\"})\n",
    "table3_final = table3_clean[[\"Date\", \"US Dollars Index\"]]\n",
    "table3_final"
   ]
  },
  {
   "cell_type": "code",
   "execution_count": 61,
   "metadata": {},
   "outputs": [],
   "source": [
    "# Export leaned table 3 to csv\n",
    "table3_final.to_csv(\"Resources/Clean Data/Table 3.csv\", index=False)                "
   ]
  },
  {
   "cell_type": "code",
   "execution_count": 62,
   "metadata": {},
   "outputs": [
    {
     "output_type": "execute_result",
     "data": {
      "text/plain": [
       "          Date  U.S. Exports of Crude Oil (Thousand Barrels)  \\\n",
       "0   2005-01-01                                        1239.0   \n",
       "1   2005-02-01                                         541.0   \n",
       "2   2005-03-01                                        1111.0   \n",
       "3   2005-04-01                                        1345.0   \n",
       "4   2005-05-01                                        1694.0   \n",
       "..         ...                                           ...   \n",
       "168 2019-01-01                                       79830.0   \n",
       "169 2019-02-01                                       83721.0   \n",
       "170 2019-03-01                                       83196.0   \n",
       "171 2019-04-01                                       85276.0   \n",
       "172 2019-05-01                                       89908.0   \n",
       "\n",
       "     U.S. Field Production of Crude Oil Thousand Barrels per Day  \\\n",
       "0                                                 5446             \n",
       "1                                                 5501             \n",
       "2                                                 5601             \n",
       "3                                                 5563             \n",
       "4                                                 5596             \n",
       "..                                                 ...             \n",
       "168                                              11865             \n",
       "169                                              11679             \n",
       "170                                              11937             \n",
       "171                                              12135             \n",
       "172                                              12163             \n",
       "\n",
       "     US Dollars Index  \n",
       "0              95.450  \n",
       "1              95.698  \n",
       "2              95.307  \n",
       "3              96.234  \n",
       "4              96.470  \n",
       "..                ...  \n",
       "168           100.401  \n",
       "169           100.403  \n",
       "170           100.772  \n",
       "171           100.746  \n",
       "172           101.603  \n",
       "\n",
       "[173 rows x 4 columns]"
      ],
      "text/html": "<div>\n<style scoped>\n    .dataframe tbody tr th:only-of-type {\n        vertical-align: middle;\n    }\n\n    .dataframe tbody tr th {\n        vertical-align: top;\n    }\n\n    .dataframe thead th {\n        text-align: right;\n    }\n</style>\n<table border=\"1\" class=\"dataframe\">\n  <thead>\n    <tr style=\"text-align: right;\">\n      <th></th>\n      <th>Date</th>\n      <th>U.S. Exports of Crude Oil (Thousand Barrels)</th>\n      <th>U.S. Field Production of Crude Oil Thousand Barrels per Day</th>\n      <th>US Dollars Index</th>\n    </tr>\n  </thead>\n  <tbody>\n    <tr>\n      <th>0</th>\n      <td>2005-01-01</td>\n      <td>1239.0</td>\n      <td>5446</td>\n      <td>95.450</td>\n    </tr>\n    <tr>\n      <th>1</th>\n      <td>2005-02-01</td>\n      <td>541.0</td>\n      <td>5501</td>\n      <td>95.698</td>\n    </tr>\n    <tr>\n      <th>2</th>\n      <td>2005-03-01</td>\n      <td>1111.0</td>\n      <td>5601</td>\n      <td>95.307</td>\n    </tr>\n    <tr>\n      <th>3</th>\n      <td>2005-04-01</td>\n      <td>1345.0</td>\n      <td>5563</td>\n      <td>96.234</td>\n    </tr>\n    <tr>\n      <th>4</th>\n      <td>2005-05-01</td>\n      <td>1694.0</td>\n      <td>5596</td>\n      <td>96.470</td>\n    </tr>\n    <tr>\n      <th>...</th>\n      <td>...</td>\n      <td>...</td>\n      <td>...</td>\n      <td>...</td>\n    </tr>\n    <tr>\n      <th>168</th>\n      <td>2019-01-01</td>\n      <td>79830.0</td>\n      <td>11865</td>\n      <td>100.401</td>\n    </tr>\n    <tr>\n      <th>169</th>\n      <td>2019-02-01</td>\n      <td>83721.0</td>\n      <td>11679</td>\n      <td>100.403</td>\n    </tr>\n    <tr>\n      <th>170</th>\n      <td>2019-03-01</td>\n      <td>83196.0</td>\n      <td>11937</td>\n      <td>100.772</td>\n    </tr>\n    <tr>\n      <th>171</th>\n      <td>2019-04-01</td>\n      <td>85276.0</td>\n      <td>12135</td>\n      <td>100.746</td>\n    </tr>\n    <tr>\n      <th>172</th>\n      <td>2019-05-01</td>\n      <td>89908.0</td>\n      <td>12163</td>\n      <td>101.603</td>\n    </tr>\n  </tbody>\n</table>\n<p>173 rows × 4 columns</p>\n</div>"
     },
     "metadata": {},
     "execution_count": 62
    }
   ],
   "source": [
    "# Merge with Table 1\n",
    "merge_1_1B_3 = pd.merge(merge_1_1B, table3_final, on=\"Date\", how=\"left\")\n",
    "merge_1_1B_3"
   ]
  },
  {
   "cell_type": "markdown",
   "metadata": {},
   "source": [
    "# TABLE 7 CLEAN UP\n",
    "\n",
    "This table contains US GDP from **Oil Export**"
   ]
  },
  {
   "cell_type": "code",
   "execution_count": 63,
   "metadata": {},
   "outputs": [],
   "source": [
    "#Open reosurces file\n",
    "table7_path = os.path.join(\"Resources\", \"Raw Data\", \"Table 7 - US GDP Data By Q.csv\")"
   ]
  },
  {
   "cell_type": "code",
   "execution_count": 64,
   "metadata": {},
   "outputs": [
    {
     "output_type": "execute_result",
     "data": {
      "text/plain": [
       "  Last Revised on: September 30, 2020                      Unnamed: 1  \\\n",
       "0                                Line                             NaN   \n",
       "1                                Line                             NaN   \n",
       "2                                   1          Gross domestic product   \n",
       "8                                   7          Oil and gas extraction   \n",
       "\n",
       "  Unnamed: 2 Unnamed: 3 Unnamed: 4 Unnamed: 5 Unnamed: 6 Unnamed: 7  \\\n",
       "0       2005       2005       2005       2005       2006       2006   \n",
       "1         Q1         Q2         Q3         Q4         Q1         Q2   \n",
       "2    12761.3      12910    13142.9    13332.3    13603.9    13749.8   \n",
       "8      133.5      143.7      160.6      186.3      181.2      179.5   \n",
       "\n",
       "  Unnamed: 8 Unnamed: 9  ... Unnamed: 54 Unnamed: 55 Unnamed: 56 Unnamed: 57  \\\n",
       "0       2006       2006  ...        2018        2018        2018        2018   \n",
       "1         Q3         Q4  ...          Q1          Q2          Q3          Q4   \n",
       "2    13867.5    14037.2  ...     20242.2     20552.7     20742.7     20909.9   \n",
       "8      180.7      174.2  ...       201.5       212.7       226.2       218.8   \n",
       "\n",
       "  Unnamed: 58 Unnamed: 59 Unnamed: 60 Unnamed: 61 Unnamed: 62 Unnamed: 63  \n",
       "0        2019        2019        2019        2019        2020        2020  \n",
       "1          Q1          Q2          Q3          Q4          Q1          Q2  \n",
       "2     21115.3     21329.9     21540.3     21747.4     21561.1     19520.1  \n",
       "8       198.1       199.5         186       188.8       138.8        49.7  \n",
       "\n",
       "[4 rows x 64 columns]"
      ],
      "text/html": "<div>\n<style scoped>\n    .dataframe tbody tr th:only-of-type {\n        vertical-align: middle;\n    }\n\n    .dataframe tbody tr th {\n        vertical-align: top;\n    }\n\n    .dataframe thead th {\n        text-align: right;\n    }\n</style>\n<table border=\"1\" class=\"dataframe\">\n  <thead>\n    <tr style=\"text-align: right;\">\n      <th></th>\n      <th>Last Revised on: September 30, 2020</th>\n      <th>Unnamed: 1</th>\n      <th>Unnamed: 2</th>\n      <th>Unnamed: 3</th>\n      <th>Unnamed: 4</th>\n      <th>Unnamed: 5</th>\n      <th>Unnamed: 6</th>\n      <th>Unnamed: 7</th>\n      <th>Unnamed: 8</th>\n      <th>Unnamed: 9</th>\n      <th>...</th>\n      <th>Unnamed: 54</th>\n      <th>Unnamed: 55</th>\n      <th>Unnamed: 56</th>\n      <th>Unnamed: 57</th>\n      <th>Unnamed: 58</th>\n      <th>Unnamed: 59</th>\n      <th>Unnamed: 60</th>\n      <th>Unnamed: 61</th>\n      <th>Unnamed: 62</th>\n      <th>Unnamed: 63</th>\n    </tr>\n  </thead>\n  <tbody>\n    <tr>\n      <th>0</th>\n      <td>Line</td>\n      <td>NaN</td>\n      <td>2005</td>\n      <td>2005</td>\n      <td>2005</td>\n      <td>2005</td>\n      <td>2006</td>\n      <td>2006</td>\n      <td>2006</td>\n      <td>2006</td>\n      <td>...</td>\n      <td>2018</td>\n      <td>2018</td>\n      <td>2018</td>\n      <td>2018</td>\n      <td>2019</td>\n      <td>2019</td>\n      <td>2019</td>\n      <td>2019</td>\n      <td>2020</td>\n      <td>2020</td>\n    </tr>\n    <tr>\n      <th>1</th>\n      <td>Line</td>\n      <td>NaN</td>\n      <td>Q1</td>\n      <td>Q2</td>\n      <td>Q3</td>\n      <td>Q4</td>\n      <td>Q1</td>\n      <td>Q2</td>\n      <td>Q3</td>\n      <td>Q4</td>\n      <td>...</td>\n      <td>Q1</td>\n      <td>Q2</td>\n      <td>Q3</td>\n      <td>Q4</td>\n      <td>Q1</td>\n      <td>Q2</td>\n      <td>Q3</td>\n      <td>Q4</td>\n      <td>Q1</td>\n      <td>Q2</td>\n    </tr>\n    <tr>\n      <th>2</th>\n      <td>1</td>\n      <td>Gross domestic product</td>\n      <td>12761.3</td>\n      <td>12910</td>\n      <td>13142.9</td>\n      <td>13332.3</td>\n      <td>13603.9</td>\n      <td>13749.8</td>\n      <td>13867.5</td>\n      <td>14037.2</td>\n      <td>...</td>\n      <td>20242.2</td>\n      <td>20552.7</td>\n      <td>20742.7</td>\n      <td>20909.9</td>\n      <td>21115.3</td>\n      <td>21329.9</td>\n      <td>21540.3</td>\n      <td>21747.4</td>\n      <td>21561.1</td>\n      <td>19520.1</td>\n    </tr>\n    <tr>\n      <th>8</th>\n      <td>7</td>\n      <td>Oil and gas extraction</td>\n      <td>133.5</td>\n      <td>143.7</td>\n      <td>160.6</td>\n      <td>186.3</td>\n      <td>181.2</td>\n      <td>179.5</td>\n      <td>180.7</td>\n      <td>174.2</td>\n      <td>...</td>\n      <td>201.5</td>\n      <td>212.7</td>\n      <td>226.2</td>\n      <td>218.8</td>\n      <td>198.1</td>\n      <td>199.5</td>\n      <td>186</td>\n      <td>188.8</td>\n      <td>138.8</td>\n      <td>49.7</td>\n    </tr>\n  </tbody>\n</table>\n<p>4 rows × 64 columns</p>\n</div>"
     },
     "metadata": {},
     "execution_count": 64
    }
   ],
   "source": [
    "# Read csv\n",
    "table7_data = pd.read_csv(table7_path, header=0, skiprows=3)\n",
    "\n",
    "# Extract column of interest\n",
    "table7_df = pd.DataFrame(table7_data).reset_index(drop=True)\n",
    "quarter_row = table7_df.iloc[:3]\n",
    "\n",
    "table7_df.dropna(how = \"any\", inplace = True)\n",
    "# # table7_clean = table7_df.loc[table7_df[\"Line\", \"Line,\"        Oil and gas extraction\"]]\n",
    "table_filter = table7_df[table7_df.columns[1]].str.contains(\"Oil\")\n",
    "\n",
    "# table_filter_2 = table7_df.iloc[0]\n",
    "new_table7_df = quarter_row.append(table7_df[table_filter])\n",
    "\n",
    "# table7_df.set_index(\"Line\", inplace=True)\n",
    "new_table7_df"
   ]
  },
  {
   "cell_type": "code",
   "execution_count": 65,
   "metadata": {},
   "outputs": [],
   "source": [
    "# Transpose dataframe\n",
    "\n",
    "new_table7_df.drop(columns=[\"Last Revised on: September 30, 2020\", \"Unnamed: 1\"], inplace=True)\n"
   ]
  },
  {
   "cell_type": "code",
   "execution_count": 66,
   "metadata": {
    "scrolled": true
   },
   "outputs": [
    {
     "output_type": "execute_result",
     "data": {
      "text/plain": [
       "                0   1        2      8\n",
       "Unnamed: 2   2005  Q1  12761.3  133.5\n",
       "Unnamed: 3   2005  Q2    12910  143.7\n",
       "Unnamed: 4   2005  Q3  13142.9  160.6\n",
       "Unnamed: 5   2005  Q4  13332.3  186.3\n",
       "Unnamed: 6   2006  Q1  13603.9  181.2\n",
       "...           ...  ..      ...    ...\n",
       "Unnamed: 59  2019  Q2  21329.9  199.5\n",
       "Unnamed: 60  2019  Q3  21540.3    186\n",
       "Unnamed: 61  2019  Q4  21747.4  188.8\n",
       "Unnamed: 62  2020  Q1  21561.1  138.8\n",
       "Unnamed: 63  2020  Q2  19520.1   49.7\n",
       "\n",
       "[62 rows x 4 columns]"
      ],
      "text/html": "<div>\n<style scoped>\n    .dataframe tbody tr th:only-of-type {\n        vertical-align: middle;\n    }\n\n    .dataframe tbody tr th {\n        vertical-align: top;\n    }\n\n    .dataframe thead th {\n        text-align: right;\n    }\n</style>\n<table border=\"1\" class=\"dataframe\">\n  <thead>\n    <tr style=\"text-align: right;\">\n      <th></th>\n      <th>0</th>\n      <th>1</th>\n      <th>2</th>\n      <th>8</th>\n    </tr>\n  </thead>\n  <tbody>\n    <tr>\n      <th>Unnamed: 2</th>\n      <td>2005</td>\n      <td>Q1</td>\n      <td>12761.3</td>\n      <td>133.5</td>\n    </tr>\n    <tr>\n      <th>Unnamed: 3</th>\n      <td>2005</td>\n      <td>Q2</td>\n      <td>12910</td>\n      <td>143.7</td>\n    </tr>\n    <tr>\n      <th>Unnamed: 4</th>\n      <td>2005</td>\n      <td>Q3</td>\n      <td>13142.9</td>\n      <td>160.6</td>\n    </tr>\n    <tr>\n      <th>Unnamed: 5</th>\n      <td>2005</td>\n      <td>Q4</td>\n      <td>13332.3</td>\n      <td>186.3</td>\n    </tr>\n    <tr>\n      <th>Unnamed: 6</th>\n      <td>2006</td>\n      <td>Q1</td>\n      <td>13603.9</td>\n      <td>181.2</td>\n    </tr>\n    <tr>\n      <th>...</th>\n      <td>...</td>\n      <td>...</td>\n      <td>...</td>\n      <td>...</td>\n    </tr>\n    <tr>\n      <th>Unnamed: 59</th>\n      <td>2019</td>\n      <td>Q2</td>\n      <td>21329.9</td>\n      <td>199.5</td>\n    </tr>\n    <tr>\n      <th>Unnamed: 60</th>\n      <td>2019</td>\n      <td>Q3</td>\n      <td>21540.3</td>\n      <td>186</td>\n    </tr>\n    <tr>\n      <th>Unnamed: 61</th>\n      <td>2019</td>\n      <td>Q4</td>\n      <td>21747.4</td>\n      <td>188.8</td>\n    </tr>\n    <tr>\n      <th>Unnamed: 62</th>\n      <td>2020</td>\n      <td>Q1</td>\n      <td>21561.1</td>\n      <td>138.8</td>\n    </tr>\n    <tr>\n      <th>Unnamed: 63</th>\n      <td>2020</td>\n      <td>Q2</td>\n      <td>19520.1</td>\n      <td>49.7</td>\n    </tr>\n  </tbody>\n</table>\n<p>62 rows × 4 columns</p>\n</div>"
     },
     "metadata": {},
     "execution_count": 66
    }
   ],
   "source": [
    "clean_table7_df = new_table7_df.T\n",
    "clean_table7_df"
   ]
  },
  {
   "cell_type": "code",
   "execution_count": 67,
   "metadata": {},
   "outputs": [
    {
     "output_type": "execute_result",
     "data": {
      "text/plain": [
       "        Date Gross domestic product US GDP by Oil and Gas Extraction  \\\n",
       "0 2005-01-01                12761.3                            133.5   \n",
       "1 2005-04-01                  12910                            143.7   \n",
       "2 2005-07-01                13142.9                            160.6   \n",
       "3 2005-10-01                13332.3                            186.3   \n",
       "4 2006-01-01                13603.9                            181.2   \n",
       "\n",
       "  GDP % from O&G  \n",
       "0           1.05  \n",
       "1           1.11  \n",
       "2           1.22  \n",
       "3           1.40  \n",
       "4           1.33  "
      ],
      "text/html": "<div>\n<style scoped>\n    .dataframe tbody tr th:only-of-type {\n        vertical-align: middle;\n    }\n\n    .dataframe tbody tr th {\n        vertical-align: top;\n    }\n\n    .dataframe thead th {\n        text-align: right;\n    }\n</style>\n<table border=\"1\" class=\"dataframe\">\n  <thead>\n    <tr style=\"text-align: right;\">\n      <th></th>\n      <th>Date</th>\n      <th>Gross domestic product</th>\n      <th>US GDP by Oil and Gas Extraction</th>\n      <th>GDP % from O&amp;G</th>\n    </tr>\n  </thead>\n  <tbody>\n    <tr>\n      <th>0</th>\n      <td>2005-01-01</td>\n      <td>12761.3</td>\n      <td>133.5</td>\n      <td>1.05</td>\n    </tr>\n    <tr>\n      <th>1</th>\n      <td>2005-04-01</td>\n      <td>12910</td>\n      <td>143.7</td>\n      <td>1.11</td>\n    </tr>\n    <tr>\n      <th>2</th>\n      <td>2005-07-01</td>\n      <td>13142.9</td>\n      <td>160.6</td>\n      <td>1.22</td>\n    </tr>\n    <tr>\n      <th>3</th>\n      <td>2005-10-01</td>\n      <td>13332.3</td>\n      <td>186.3</td>\n      <td>1.40</td>\n    </tr>\n    <tr>\n      <th>4</th>\n      <td>2006-01-01</td>\n      <td>13603.9</td>\n      <td>181.2</td>\n      <td>1.33</td>\n    </tr>\n  </tbody>\n</table>\n</div>"
     },
     "metadata": {},
     "execution_count": 67
    }
   ],
   "source": [
    "clean_table7_df[\"Date_1\"] = clean_table7_df[0] + \"-\" + clean_table7_df[1]\n",
    "clean_table7_df['Date'] = pd.to_datetime(clean_table7_df[\"Date_1\"])\n",
    "\n",
    "table7_final = clean_table7_df[[\"Date\", 2,8]]\n",
    "\n",
    "table7_final.columns = [\"Date\", \"Gross domestic product\", \"US GDP by Oil and Gas Extraction\"]\n",
    "table7_final.reset_index(drop = True, inplace = True)\n",
    "\n",
    "table7_final_2 = table7_final[(table7_final['Date']>= '2005-01-01' ) & (table7_final['Date']<= '2019-12-30')]\n",
    "\n",
    "\n",
    "gross = table7_final_2['Gross domestic product'].astype(float)\n",
    "gdp_og = table7_final_2['US GDP by Oil and Gas Extraction'].astype(float)\n",
    "\n",
    "gdp_percentage = gdp_og / gross * 100\n",
    "\n",
    "table7_final_2[\"GDP % from O&G\"] = gdp_percentage\n",
    "\n",
    "table7_final_2[\"GDP % from O&G\"] = table7_final_2[\"GDP % from O&G\"].map('{:,.2f}'.format)\n",
    "\n",
    "table7_final_2.head()"
   ]
  },
  {
   "cell_type": "code",
   "execution_count": 68,
   "metadata": {},
   "outputs": [],
   "source": [
    "# Export leaned table 7 to csv\n",
    "table7_final_2.to_csv(\"Resources/Clean Data/Table 7.csv\", index=False)                "
   ]
  },
  {
   "cell_type": "markdown",
   "metadata": {},
   "source": [
    "# MERGE TABLES"
   ]
  },
  {
   "cell_type": "code",
   "execution_count": 69,
   "metadata": {},
   "outputs": [
    {
     "output_type": "execute_result",
     "data": {
      "text/plain": [
       "        Date  U.S. Exports of Crude Oil (Thousand Barrels)  \\\n",
       "0 2005-01-01                                        1239.0   \n",
       "1 2005-02-01                                         541.0   \n",
       "2 2005-03-01                                        1111.0   \n",
       "3 2005-04-01                                        1345.0   \n",
       "4 2005-05-01                                        1694.0   \n",
       "\n",
       "   U.S. Field Production of Crude Oil Thousand Barrels per Day  \\\n",
       "0                                               5446             \n",
       "1                                               5501             \n",
       "2                                               5601             \n",
       "3                                               5563             \n",
       "4                                               5596             \n",
       "\n",
       "   US Dollars Index Gross domestic product US GDP by Oil and Gas Extraction  \\\n",
       "0            95.450                12761.3                            133.5   \n",
       "1            95.698                    NaN                              NaN   \n",
       "2            95.307                    NaN                              NaN   \n",
       "3            96.234                  12910                            143.7   \n",
       "4            96.470                    NaN                              NaN   \n",
       "\n",
       "  GDP % from O&G  U.S. Field Production of Crude Oil Thousand Barrels  \n",
       "0           1.05                                             163380    \n",
       "1            NaN                                             165030    \n",
       "2            NaN                                             168030    \n",
       "3           1.11                                             166890    \n",
       "4            NaN                                             167880    "
      ],
      "text/html": "<div>\n<style scoped>\n    .dataframe tbody tr th:only-of-type {\n        vertical-align: middle;\n    }\n\n    .dataframe tbody tr th {\n        vertical-align: top;\n    }\n\n    .dataframe thead th {\n        text-align: right;\n    }\n</style>\n<table border=\"1\" class=\"dataframe\">\n  <thead>\n    <tr style=\"text-align: right;\">\n      <th></th>\n      <th>Date</th>\n      <th>U.S. Exports of Crude Oil (Thousand Barrels)</th>\n      <th>U.S. Field Production of Crude Oil Thousand Barrels per Day</th>\n      <th>US Dollars Index</th>\n      <th>Gross domestic product</th>\n      <th>US GDP by Oil and Gas Extraction</th>\n      <th>GDP % from O&amp;G</th>\n      <th>U.S. Field Production of Crude Oil Thousand Barrels</th>\n    </tr>\n  </thead>\n  <tbody>\n    <tr>\n      <th>0</th>\n      <td>2005-01-01</td>\n      <td>1239.0</td>\n      <td>5446</td>\n      <td>95.450</td>\n      <td>12761.3</td>\n      <td>133.5</td>\n      <td>1.05</td>\n      <td>163380</td>\n    </tr>\n    <tr>\n      <th>1</th>\n      <td>2005-02-01</td>\n      <td>541.0</td>\n      <td>5501</td>\n      <td>95.698</td>\n      <td>NaN</td>\n      <td>NaN</td>\n      <td>NaN</td>\n      <td>165030</td>\n    </tr>\n    <tr>\n      <th>2</th>\n      <td>2005-03-01</td>\n      <td>1111.0</td>\n      <td>5601</td>\n      <td>95.307</td>\n      <td>NaN</td>\n      <td>NaN</td>\n      <td>NaN</td>\n      <td>168030</td>\n    </tr>\n    <tr>\n      <th>3</th>\n      <td>2005-04-01</td>\n      <td>1345.0</td>\n      <td>5563</td>\n      <td>96.234</td>\n      <td>12910</td>\n      <td>143.7</td>\n      <td>1.11</td>\n      <td>166890</td>\n    </tr>\n    <tr>\n      <th>4</th>\n      <td>2005-05-01</td>\n      <td>1694.0</td>\n      <td>5596</td>\n      <td>96.470</td>\n      <td>NaN</td>\n      <td>NaN</td>\n      <td>NaN</td>\n      <td>167880</td>\n    </tr>\n  </tbody>\n</table>\n</div>"
     },
     "metadata": {},
     "execution_count": 69
    }
   ],
   "source": [
    "merge_big = pd.merge(merge_1_1B_3, table7_final_2, on=\"Date\", how=\"left\")\n",
    "merge_big['U.S. Field Production of Crude Oil Thousand Barrels'] = merge_big['U.S. Field Production of Crude Oil Thousand Barrels per Day'] * 30 \n",
    "merge_big.head()"
   ]
  },
  {
   "cell_type": "code",
   "execution_count": 70,
   "metadata": {},
   "outputs": [
    {
     "output_type": "execute_result",
     "data": {
      "text/plain": [
       "        Date  U.S. Field Production of Crude Oil Thousand Barrels  \\\n",
       "0 2005-01-01                                             163380     \n",
       "1 2005-02-01                                             165030     \n",
       "2 2005-03-01                                             168030     \n",
       "3 2005-04-01                                             166890     \n",
       "4 2005-05-01                                             167880     \n",
       "5 2005-06-01                                             163260     \n",
       "6 2005-07-01                                             157590     \n",
       "7 2005-08-01                                             155940     \n",
       "8 2005-09-01                                             126420     \n",
       "9 2005-10-01                                             136650     \n",
       "\n",
       "   U.S. Exports of Crude Oil (Thousand Barrels)  US Dollars Index  \\\n",
       "0                                        1239.0            95.450   \n",
       "1                                         541.0            95.698   \n",
       "2                                        1111.0            95.307   \n",
       "3                                        1345.0            96.234   \n",
       "4                                        1694.0            96.470   \n",
       "5                                         640.0            97.334   \n",
       "6                                        1058.0            97.987   \n",
       "7                                         531.0            97.148   \n",
       "8                                         727.0            98.022   \n",
       "9                                         530.0            98.909   \n",
       "\n",
       "  Gross domestic product US GDP by Oil and Gas Extraction GDP % from O&G  \n",
       "0                12761.3                            133.5           1.05  \n",
       "1                12761.3                            133.5           1.05  \n",
       "2                12761.3                            133.5           1.05  \n",
       "3                  12910                            143.7           1.11  \n",
       "4                  12910                            143.7           1.11  \n",
       "5                  12910                            143.7           1.11  \n",
       "6                13142.9                            160.6           1.22  \n",
       "7                13142.9                            160.6           1.22  \n",
       "8                13142.9                            160.6           1.22  \n",
       "9                13332.3                            186.3           1.40  "
      ],
      "text/html": "<div>\n<style scoped>\n    .dataframe tbody tr th:only-of-type {\n        vertical-align: middle;\n    }\n\n    .dataframe tbody tr th {\n        vertical-align: top;\n    }\n\n    .dataframe thead th {\n        text-align: right;\n    }\n</style>\n<table border=\"1\" class=\"dataframe\">\n  <thead>\n    <tr style=\"text-align: right;\">\n      <th></th>\n      <th>Date</th>\n      <th>U.S. Field Production of Crude Oil Thousand Barrels</th>\n      <th>U.S. Exports of Crude Oil (Thousand Barrels)</th>\n      <th>US Dollars Index</th>\n      <th>Gross domestic product</th>\n      <th>US GDP by Oil and Gas Extraction</th>\n      <th>GDP % from O&amp;G</th>\n    </tr>\n  </thead>\n  <tbody>\n    <tr>\n      <th>0</th>\n      <td>2005-01-01</td>\n      <td>163380</td>\n      <td>1239.0</td>\n      <td>95.450</td>\n      <td>12761.3</td>\n      <td>133.5</td>\n      <td>1.05</td>\n    </tr>\n    <tr>\n      <th>1</th>\n      <td>2005-02-01</td>\n      <td>165030</td>\n      <td>541.0</td>\n      <td>95.698</td>\n      <td>12761.3</td>\n      <td>133.5</td>\n      <td>1.05</td>\n    </tr>\n    <tr>\n      <th>2</th>\n      <td>2005-03-01</td>\n      <td>168030</td>\n      <td>1111.0</td>\n      <td>95.307</td>\n      <td>12761.3</td>\n      <td>133.5</td>\n      <td>1.05</td>\n    </tr>\n    <tr>\n      <th>3</th>\n      <td>2005-04-01</td>\n      <td>166890</td>\n      <td>1345.0</td>\n      <td>96.234</td>\n      <td>12910</td>\n      <td>143.7</td>\n      <td>1.11</td>\n    </tr>\n    <tr>\n      <th>4</th>\n      <td>2005-05-01</td>\n      <td>167880</td>\n      <td>1694.0</td>\n      <td>96.470</td>\n      <td>12910</td>\n      <td>143.7</td>\n      <td>1.11</td>\n    </tr>\n    <tr>\n      <th>5</th>\n      <td>2005-06-01</td>\n      <td>163260</td>\n      <td>640.0</td>\n      <td>97.334</td>\n      <td>12910</td>\n      <td>143.7</td>\n      <td>1.11</td>\n    </tr>\n    <tr>\n      <th>6</th>\n      <td>2005-07-01</td>\n      <td>157590</td>\n      <td>1058.0</td>\n      <td>97.987</td>\n      <td>13142.9</td>\n      <td>160.6</td>\n      <td>1.22</td>\n    </tr>\n    <tr>\n      <th>7</th>\n      <td>2005-08-01</td>\n      <td>155940</td>\n      <td>531.0</td>\n      <td>97.148</td>\n      <td>13142.9</td>\n      <td>160.6</td>\n      <td>1.22</td>\n    </tr>\n    <tr>\n      <th>8</th>\n      <td>2005-09-01</td>\n      <td>126420</td>\n      <td>727.0</td>\n      <td>98.022</td>\n      <td>13142.9</td>\n      <td>160.6</td>\n      <td>1.22</td>\n    </tr>\n    <tr>\n      <th>9</th>\n      <td>2005-10-01</td>\n      <td>136650</td>\n      <td>530.0</td>\n      <td>98.909</td>\n      <td>13332.3</td>\n      <td>186.3</td>\n      <td>1.40</td>\n    </tr>\n  </tbody>\n</table>\n</div>"
     },
     "metadata": {},
     "execution_count": 70
    }
   ],
   "source": [
    "# merge_final['US GDP by Oil and Gas Extraction'] = merge_final['US GDP by Oil and Gas Extraction'].replace(np.nan, 0)\n",
    "merge_big['Gross domestic product'] = merge_big[\"Gross domestic product\"].fillna(method='ffill')\n",
    "merge_big['US GDP by Oil and Gas Extraction'] = merge_big[\"US GDP by Oil and Gas Extraction\"].fillna(method='ffill')\n",
    "merge_big['GDP % from O&G'] = merge_big[\"GDP % from O&G\"].fillna(method='ffill')\n",
    "\n",
    "merge_final = merge_big[[\"Date\", 'U.S. Field Production of Crude Oil Thousand Barrels', \n",
    "                         'U.S. Exports of Crude Oil (Thousand Barrels)', 'US Dollars Index',\n",
    "                         \"Gross domestic product\", \"US GDP by Oil and Gas Extraction\", 'GDP % from O&G']]\n",
    "\n",
    "merge_final.head(10)"
   ]
  },
  {
   "cell_type": "code",
   "execution_count": 71,
   "metadata": {},
   "outputs": [],
   "source": [
    "merge_final.to_csv(\"Transformed Data/Part 1.csv\", index=False)"
   ]
  }
 ],
 "metadata": {
  "kernelspec": {
   "display_name": "Python 3",
   "language": "python",
   "name": "python3"
  },
  "language_info": {
   "codemirror_mode": {
    "name": "ipython",
    "version": 3
   },
   "file_extension": ".py",
   "mimetype": "text/x-python",
   "name": "python",
   "nbconvert_exporter": "python",
   "pygments_lexer": "ipython3",
   "version": "3.7.9-final"
  }
 },
 "nbformat": 4,
 "nbformat_minor": 4
}