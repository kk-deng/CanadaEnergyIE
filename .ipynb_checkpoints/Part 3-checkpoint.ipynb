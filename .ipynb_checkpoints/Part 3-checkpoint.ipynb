{
 "cells": [
  {
   "cell_type": "code",
   "execution_count": 1,
   "metadata": {},
   "outputs": [],
   "source": [
    "import pandas as pd \n",
    "import os\n",
    "import csv"
   ]
  },
  {
   "cell_type": "code",
   "execution_count": null,
   "metadata": {},
   "outputs": [],
   "source": [
    "# pulling in clean data \n",
    "\n",
    "US_filepath = os.path.join(\"Resources\\Raw Data\\Table 2 - US_electricity_net_gen_from_renewable_en_1990_2020.csv\")\n",
    "USD_filepath = os.path.join(\"Resources\\Raw Data\\Table 3 - US-dollar-index-historical-chart.csv\")\n",
    "\n",
    "US_electricity = pd.read_csv(US_filepath)\n",
    "USD_data = pd.read_csv(USD_filepath)\n",
    "\n",
    "US_renewable.to_csv(r\"Resources\\Clean Data\\US Electricity Production (Renewable Sources).csv\", index=True)\n",
    "\n",
    "US_oil.to_csv(r\"Resources\\Clean Data\\US Electricity Production (Oil Sources).csv\", index=True)\n",
    "\n",
    "USD_data.to_csv(r\"Resources\\Clean Data\\USD index.csv\", index=True)"
   ]
  }
 ],
 "metadata": {
  "kernelspec": {
   "display_name": "Python 3",
   "language": "python",
   "name": "python3"
  },
  "language_info": {
   "codemirror_mode": {
    "name": "ipython",
    "version": 3
   },
   "file_extension": ".py",
   "mimetype": "text/x-python",
   "name": "python",
   "nbconvert_exporter": "python",
   "pygments_lexer": "ipython3",
   "version": "3.8.3"
  }
 },
 "nbformat": 4,
 "nbformat_minor": 4
}
