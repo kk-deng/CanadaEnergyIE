{
 "cells": [
  {
   "cell_type": "code",
   "execution_count": 30,
   "metadata": {},
   "outputs": [],
   "source": [
    "import pandas as pd \n",
    "import os\n",
    "import csv"
   ]
  },
  {
   "cell_type": "code",
   "execution_count": 31,
   "metadata": {},
   "outputs": [],
   "source": [
    "# pulling in clean data \n",
    "\n",
    "Table2a_filepath = os.path.join(\"Clean Data\\Table 2a.csv\")\n",
    "Table2b_filepath = os.path.join(\"Clean Data\\Table 2b.csv\")\n",
    "Table3_filepath = os.path.join(\"Clean Data\\Table 3.csv\")\n",
    "\n",
    "US_renewable = pd.read_csv(Table2a_filepath)\n",
    "US_oil = pd.read_csv(Table2b_filepath)\n",
    "USD_data = pd.read_csv(Table3_filepath)\n"
   ]
  },
  {
   "cell_type": "code",
   "execution_count": 32,
   "metadata": {},
   "outputs": [
    {
     "data": {
      "text/html": [
       "<div>\n",
       "<style scoped>\n",
       "    .dataframe tbody tr th:only-of-type {\n",
       "        vertical-align: middle;\n",
       "    }\n",
       "\n",
       "    .dataframe tbody tr th {\n",
       "        vertical-align: top;\n",
       "    }\n",
       "\n",
       "    .dataframe thead th {\n",
       "        text-align: right;\n",
       "    }\n",
       "</style>\n",
       "<table border=\"1\" class=\"dataframe\">\n",
       "  <thead>\n",
       "    <tr style=\"text-align: right;\">\n",
       "      <th></th>\n",
       "      <th>Value</th>\n",
       "    </tr>\n",
       "    <tr>\n",
       "      <th>Description</th>\n",
       "      <th></th>\n",
       "    </tr>\n",
       "  </thead>\n",
       "  <tbody>\n",
       "    <tr>\n",
       "      <th>Electricity Net Generation From Coal, All Sectors</th>\n",
       "      <td>2.393215e+07</td>\n",
       "    </tr>\n",
       "    <tr>\n",
       "      <th>Electricity Net Generation From Conventional Hydroelectric Power, All Sectors</th>\n",
       "      <td>4.102541e+06</td>\n",
       "    </tr>\n",
       "    <tr>\n",
       "      <th>Electricity Net Generation From Natural Gas, All Sectors</th>\n",
       "      <td>1.681585e+07</td>\n",
       "    </tr>\n",
       "    <tr>\n",
       "      <th>Electricity Net Generation From Other Gases, All Sectors</th>\n",
       "      <td>1.885745e+05</td>\n",
       "    </tr>\n",
       "    <tr>\n",
       "      <th>Electricity Net Generation From Petroleum, All Sectors</th>\n",
       "      <td>6.027747e+05</td>\n",
       "    </tr>\n",
       "  </tbody>\n",
       "</table>\n",
       "</div>"
      ],
      "text/plain": [
       "                                                           Value\n",
       "Description                                                     \n",
       "Electricity Net Generation From Coal, All Sectors   2.393215e+07\n",
       "Electricity Net Generation From Conventional Hy...  4.102541e+06\n",
       "Electricity Net Generation From Natural Gas, Al...  1.681585e+07\n",
       "Electricity Net Generation From Other Gases, Al...  1.885745e+05\n",
       "Electricity Net Generation From Petroleum, All ...  6.027747e+05"
      ]
     },
     "execution_count": 32,
     "metadata": {},
     "output_type": "execute_result"
    }
   ],
   "source": [
    "#group by source types \n",
    "\n",
    "US_oil.groupby([\"Description\"]).sum()\n"
   ]
  },
  {
   "cell_type": "code",
   "execution_count": 14,
   "metadata": {},
   "outputs": [],
   "source": [
    "#switching index to dates\n",
    "\n",
    "US_renewable = US_renewable.set_index(US_renewable[\"Date\"], drop=True)\n",
    "US_oil = US_oil.set_index(US_oil[\"Date\"], drop=True)\n",
    "USD_data = USD_data.set_index(USD_data[\"Date\"], drop=True)\n",
    "\n",
    "US_oil = US_oil.drop(columns=[\"Date\", \"Description\"])\n",
    "US_renewable = US_renewable.drop(columns=[\"Date\", \"Description\"])\n",
    "USD_data = USD_data.drop(columns=[\"Date\"])\n"
   ]
  },
  {
   "cell_type": "code",
   "execution_count": 16,
   "metadata": {},
   "outputs": [
    {
     "data": {
      "text/html": [
       "<div>\n",
       "<style scoped>\n",
       "    .dataframe tbody tr th:only-of-type {\n",
       "        vertical-align: middle;\n",
       "    }\n",
       "\n",
       "    .dataframe tbody tr th {\n",
       "        vertical-align: top;\n",
       "    }\n",
       "\n",
       "    .dataframe thead th {\n",
       "        text-align: right;\n",
       "    }\n",
       "</style>\n",
       "<table border=\"1\" class=\"dataframe\">\n",
       "  <thead>\n",
       "    <tr style=\"text-align: right;\">\n",
       "      <th></th>\n",
       "      <th>Value</th>\n",
       "    </tr>\n",
       "    <tr>\n",
       "      <th>Date</th>\n",
       "      <th></th>\n",
       "    </tr>\n",
       "  </thead>\n",
       "  <tbody>\n",
       "    <tr>\n",
       "      <th>2005-01-01</th>\n",
       "      <td>177013.907</td>\n",
       "    </tr>\n",
       "    <tr>\n",
       "      <th>2005-02-01</th>\n",
       "      <td>155818.014</td>\n",
       "    </tr>\n",
       "    <tr>\n",
       "      <th>2005-03-01</th>\n",
       "      <td>163612.700</td>\n",
       "    </tr>\n",
       "    <tr>\n",
       "      <th>2005-04-01</th>\n",
       "      <td>143083.239</td>\n",
       "    </tr>\n",
       "    <tr>\n",
       "      <th>2005-05-01</th>\n",
       "      <td>153957.962</td>\n",
       "    </tr>\n",
       "  </tbody>\n",
       "</table>\n",
       "</div>"
      ],
      "text/plain": [
       "                 Value\n",
       "Date                  \n",
       "2005-01-01  177013.907\n",
       "2005-02-01  155818.014\n",
       "2005-03-01  163612.700\n",
       "2005-04-01  143083.239\n",
       "2005-05-01  153957.962"
      ]
     },
     "execution_count": 16,
     "metadata": {},
     "output_type": "execute_result"
    }
   ],
   "source": [
    "#renaming columns \n",
    "\n"
   ]
  },
  {
   "cell_type": "code",
   "execution_count": null,
   "metadata": {},
   "outputs": [],
   "source": []
  }
 ],
 "metadata": {
  "kernelspec": {
   "display_name": "Python 3",
   "language": "python",
   "name": "python3"
  },
  "language_info": {
   "codemirror_mode": {
    "name": "ipython",
    "version": 3
   },
   "file_extension": ".py",
   "mimetype": "text/x-python",
   "name": "python",
   "nbconvert_exporter": "python",
   "pygments_lexer": "ipython3",
   "version": "3.8.3"
  }
 },
 "nbformat": 4,
 "nbformat_minor": 4
}
