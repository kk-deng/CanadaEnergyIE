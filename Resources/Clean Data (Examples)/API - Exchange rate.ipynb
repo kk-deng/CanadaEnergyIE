{
 "cells": [
  {
   "cell_type": "code",
   "execution_count": 13,
   "metadata": {},
   "outputs": [],
   "source": [
    "import pandas as pd\n",
    "import numpy as np\n",
    "import requests\n",
    "import os\n",
    "import csv\n",
    "from pprint import pprint\n",
    " "
   ]
  },
  {
   "cell_type": "code",
   "execution_count": 14,
   "metadata": {},
   "outputs": [],
   "source": [
    "# Import API key\n",
    "api_key = \"3ff2b2699c5d6a38b88da865b449afed\"\n",
    "# startdate =1104537600\n"
   ]
  },
  {
   "cell_type": "code",
   "execution_count": 15,
   "metadata": {},
   "outputs": [],
   "source": [
    "from datetime import date, timedelta\n",
    "sdate = date(2005,1,1)   # start date\n",
    "edate = date(2019,11,1)   # end date\n",
    "date = pd.date_range(sdate,edate-timedelta(days=1),freq='d')\n",
    "\n"
   ]
  },
  {
   "cell_type": "code",
   "execution_count": 16,
   "metadata": {},
   "outputs": [
    {
     "data": {
      "text/plain": [
       "DatetimeIndex(['2005-01-01', '2005-01-02', '2005-01-03', '2005-01-04',\n",
       "               '2005-01-05', '2005-01-06', '2005-01-07', '2005-01-08',\n",
       "               '2005-01-09', '2005-01-10',\n",
       "               ...\n",
       "               '2019-10-22', '2019-10-23', '2019-10-24', '2019-10-25',\n",
       "               '2019-10-26', '2019-10-27', '2019-10-28', '2019-10-29',\n",
       "               '2019-10-30', '2019-10-31'],\n",
       "              dtype='datetime64[ns]', length=5417, freq='D')"
      ]
     },
     "execution_count": 16,
     "metadata": {},
     "output_type": "execute_result"
    }
   ],
   "source": [
    "date"
   ]
  },
  {
   "cell_type": "code",
   "execution_count": 19,
   "metadata": {},
   "outputs": [
    {
     "name": "stdout",
     "output_type": "stream",
     "text": [
      "{'success': False, 'error': {'code': 104, 'info': 'Your monthly usage limit has been reached. Please upgrade your Subscription Plan.'}}\n"
     ]
    },
    {
     "data": {
      "text/plain": [
       "[]"
      ]
     },
     "execution_count": 19,
     "metadata": {},
     "output_type": "execute_result"
    }
   ],
   "source": [
    "# State assumption or Get daily basis and get the average\n",
    "\n",
    "exc_rate = []\n",
    "\n",
    "for month in date:\n",
    "    clean_month = str(month)[:10]\n",
    "    url = f\"http://apilayer.net/api/historical?access_key={api_key}&currencies=CAD&source=USD&format=1&date={clean_month}\"\n",
    "    response = requests.get(url).json()\n",
    "#     exc_rate.append(response[\"quotes\"][\"USDCAD\"])\n",
    "    print(response)\n",
    "    break\n",
    "    \n",
    "exc_rate"
   ]
  },
  {
   "cell_type": "code",
   "execution_count": null,
   "metadata": {},
   "outputs": [],
   "source": [
    "date_df = pd.DataFrame({ \"Date\": date,\n",
    "                        \"USD/CAD\": exc_rate\n",
    "            \n",
    "})\n",
    "\n",
    "date_df"
   ]
  },
  {
   "cell_type": "code",
   "execution_count": null,
   "metadata": {},
   "outputs": [],
   "source": [
    "date_df.to_csv(\"Table 6 - USD-CAD Exchange Rate (2005-2020).csv\", index=False)\n"
   ]
  },
  {
   "cell_type": "code",
   "execution_count": null,
   "metadata": {},
   "outputs": [],
   "source": []
  },
  {
   "cell_type": "code",
   "execution_count": null,
   "metadata": {},
   "outputs": [],
   "source": []
  }
 ],
 "metadata": {
  "kernelspec": {
   "display_name": "Python 3",
   "language": "python",
   "name": "python3"
  },
  "language_info": {
   "codemirror_mode": {
    "name": "ipython",
    "version": 3
   },
   "file_extension": ".py",
   "mimetype": "text/x-python",
   "name": "python",
   "nbconvert_exporter": "python",
   "pygments_lexer": "ipython3",
   "version": "3.7.6"
  }
 },
 "nbformat": 4,
 "nbformat_minor": 4
}
