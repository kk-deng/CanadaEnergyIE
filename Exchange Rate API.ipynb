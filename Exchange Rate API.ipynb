{
 "metadata": {
  "language_info": {
   "codemirror_mode": {
    "name": "ipython",
    "version": 3
   },
   "file_extension": ".py",
   "mimetype": "text/x-python",
   "name": "python",
   "nbconvert_exporter": "python",
   "pygments_lexer": "ipython3",
   "version": "3.7.9-final"
  },
  "orig_nbformat": 2,
  "kernelspec": {
   "name": "Python 3.7.9 64-bit (conda)",
   "display_name": "Python 3.7.9 64-bit (conda)",
   "metadata": {
    "interpreter": {
     "hash": "b9265de25e7f12c4e5ae41868c22c06f0085fd1fe8bdf150e795ee47ff282b68"
    }
   }
  }
 },
 "nbformat": 4,
 "nbformat_minor": 2,
 "cells": [
  {
   "source": [
    "# Historical USD & CAD Exchange Rate via API"
   ],
   "cell_type": "markdown",
   "metadata": {}
  },
  {
   "source": [
    "----\n",
    "An open source currency exchange rate API was used. \n",
    "\n",
    "*Reference*: https://exchangeratesapi.io/\n",
    "\n",
    "*Source code*: https://github.com/exchangeratesapi/exchangeratesapi\n"
   ],
   "cell_type": "markdown",
   "metadata": {}
  },
  {
   "cell_type": "code",
   "execution_count": 3,
   "metadata": {},
   "outputs": [],
   "source": [
    "# Import libraries\n",
    "import pandas as pd\n",
    "import requests\n",
    "import json\n",
    "import time"
   ]
  },
  {
   "cell_type": "code",
   "execution_count": 4,
   "metadata": {},
   "outputs": [
    {
     "output_type": "execute_result",
     "data": {
      "text/plain": [
       "        Date   USD/CAD   CAD/USD\n",
       "0 2005-01-01  1.205198  0.829739\n",
       "1 2005-02-01  1.239963  0.806476\n",
       "2 2005-03-01  1.233808  0.810499\n",
       "3 2005-04-01  1.214291  0.823526\n",
       "4 2005-05-01  1.249595  0.800259"
      ],
      "text/html": "<div>\n<style scoped>\n    .dataframe tbody tr th:only-of-type {\n        vertical-align: middle;\n    }\n\n    .dataframe tbody tr th {\n        vertical-align: top;\n    }\n\n    .dataframe thead th {\n        text-align: right;\n    }\n</style>\n<table border=\"1\" class=\"dataframe\">\n  <thead>\n    <tr style=\"text-align: right;\">\n      <th></th>\n      <th>Date</th>\n      <th>USD/CAD</th>\n      <th>CAD/USD</th>\n    </tr>\n  </thead>\n  <tbody>\n    <tr>\n      <th>0</th>\n      <td>2005-01-01</td>\n      <td>1.205198</td>\n      <td>0.829739</td>\n    </tr>\n    <tr>\n      <th>1</th>\n      <td>2005-02-01</td>\n      <td>1.239963</td>\n      <td>0.806476</td>\n    </tr>\n    <tr>\n      <th>2</th>\n      <td>2005-03-01</td>\n      <td>1.233808</td>\n      <td>0.810499</td>\n    </tr>\n    <tr>\n      <th>3</th>\n      <td>2005-04-01</td>\n      <td>1.214291</td>\n      <td>0.823526</td>\n    </tr>\n    <tr>\n      <th>4</th>\n      <td>2005-05-01</td>\n      <td>1.249595</td>\n      <td>0.800259</td>\n    </tr>\n  </tbody>\n</table>\n</div>"
     },
     "metadata": {},
     "execution_count": 4
    }
   ],
   "source": [
    "# Building up query url for requests\n",
    "url = \"https://api.exchangeratesapi.io/\"\n",
    "dollar = \"?symbols=CAD&base=USD\"\n",
    "date_list = pd.date_range('2005-01-01','2020-11-01' , freq='1M') - pd.offsets.MonthBegin(1)\n",
    "exchange_rate = []\n",
    "\n",
    "# For loop to get USD/CAD exchange rate\n",
    "for dt in date_list:\n",
    "    # Use the date inside the date_list to generate urls\n",
    "    query_url = url + str(dt)[:10] + dollar\n",
    "    response = requests.get(query_url).json()\n",
    "    exchange_rate.append({\n",
    "        \"Date\": dt,\n",
    "        \"USD/CAD\": response[\"rates\"][\"CAD\"],\n",
    "        \"CAD/USD\": 1/(response[\"rates\"][\"CAD\"])\n",
    "    })\n",
    "\n",
    "    # Pause for 0.1s to slow down the requests\n",
    "    time.sleep(0.1)\n",
    "    \n",
    "# Convert to df and display it\n",
    "rate_df = pd.DataFrame(exchange_rate)\n",
    "rate_df.head()"
   ]
  },
  {
   "cell_type": "code",
   "execution_count": 5,
   "metadata": {},
   "outputs": [],
   "source": [
    "# Export to csv\n",
    "rate_df.to_csv(\"Resources/Clean Data/Monthly_Exchange_Rate.csv\", index = False)"
   ]
  }
 ]
}