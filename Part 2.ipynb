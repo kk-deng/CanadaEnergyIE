{
 "metadata": {
  "language_info": {
   "codemirror_mode": {
    "name": "ipython",
    "version": 3
   },
   "file_extension": ".py",
   "mimetype": "text/x-python",
   "name": "python",
   "nbconvert_exporter": "python",
   "pygments_lexer": "ipython3",
   "version": "3.7.9-final"
  },
  "orig_nbformat": 2,
  "kernelspec": {
   "name": "Python 3.7.9 64-bit (conda)",
   "display_name": "Python 3.7.9 64-bit (conda)",
   "metadata": {
    "interpreter": {
     "hash": "b9265de25e7f12c4e5ae41868c22c06f0085fd1fe8bdf150e795ee47ff282b68"
    }
   }
  }
 },
 "nbformat": 4,
 "nbformat_minor": 2,
 "cells": [
  {
   "source": [
    "# Part 2 - Crude Oil Export in CAD, GDP Contribution of Oil Export from CA\n",
    "----"
   ],
   "cell_type": "markdown",
   "metadata": {}
  },
  {
   "cell_type": "code",
   "execution_count": 1,
   "metadata": {},
   "outputs": [],
   "source": [
    "# Dependencies and Setup\n",
    "import pandas as pd\n",
    "import numpy as np\n",
    "import datetime"
   ]
  },
  {
   "cell_type": "code",
   "execution_count": 2,
   "metadata": {},
   "outputs": [],
   "source": [
    "# List all related data files path\n",
    "table_4_file = \"Resources/Raw Data/Table 4 - Canadian Oil Export by Type.xls\"\n",
    "table_8_file = \"Resources/Raw Data/Table 8 - Canada GDP Data.csv\"\n",
    "table_6_file = \"Resources/Raw Data/Table 6 - USD-CAD Exchange Rate (API Output).csv\"\n"
   ]
  },
  {
   "source": [
    "## Table 4 - Canadian Oil Export by Type\n",
    "----"
   ],
   "cell_type": "markdown",
   "metadata": {}
  },
  {
   "cell_type": "code",
   "execution_count": 3,
   "metadata": {},
   "outputs": [
    {
     "output_type": "execute_result",
     "data": {
      "text/plain": [
       "                                           Unnamed: 0  Unnamed: 1 Unnamed: 2  \\\n",
       "0                                                 NaN         NaN        NaN   \n",
       "1                                                 NaN         NaN        NaN   \n",
       "2   Crude Oil Exports - Summary by Type - Monthly\\...         NaN        NaN   \n",
       "3                                                 NaN         NaN        NaN   \n",
       "4                                                 NaN         NaN        NaN   \n",
       "5                                             Period:         NaN        NaN   \n",
       "6                                         2000-01-01          NaN        NaN   \n",
       "7                                         2000-02-01          NaN        NaN   \n",
       "8                                         2000-03-01          NaN        NaN   \n",
       "9                                         2000-04-01          NaN        NaN   \n",
       "10                                        2000-05-01          NaN        NaN   \n",
       "11                                        2000-06-01          NaN        NaN   \n",
       "12                                        2000-07-01          NaN        NaN   \n",
       "13                                        2000-08-01          NaN        NaN   \n",
       "14                                        2000-09-01          NaN        NaN   \n",
       "15                                        2000-10-01          NaN        NaN   \n",
       "16                                        2000-11-01          NaN        NaN   \n",
       "17                                        2000-12-01          NaN        NaN   \n",
       "18                                        2001-01-01          NaN        NaN   \n",
       "19                                        2001-02-01          NaN        NaN   \n",
       "\n",
       "           Unnamed: 3  Unnamed: 4  Unnamed: 5             Unnamed: 6  \\\n",
       "0                 NaN         NaN         NaN                    NaN   \n",
       "1                 NaN         NaN         NaN                    NaN   \n",
       "2                 NaN         NaN         NaN                    NaN   \n",
       "3                 NaN         NaN         NaN                    NaN   \n",
       "4   Light\\n(> 30 API)         NaN         NaN  Medium\\n(25 - 30 API)   \n",
       "5                 NaN         NaN         NaN                    NaN   \n",
       "6              102223         NaN         NaN                25889.1   \n",
       "7              104746         NaN         NaN                27786.6   \n",
       "8              101307         NaN         NaN                  26496   \n",
       "9              106014         NaN         NaN                25062.3   \n",
       "10             108434         NaN         NaN                31567.8   \n",
       "11             114142         NaN         NaN                  24275   \n",
       "12            94025.7         NaN         NaN                30742.3   \n",
       "13            98057.1         NaN         NaN                28718.4   \n",
       "14            95258.6         NaN         NaN                28253.1   \n",
       "15             100042         NaN         NaN                  28735   \n",
       "16            95753.9         NaN         NaN                  27361   \n",
       "17             105556         NaN         NaN                26521.1   \n",
       "18            91520.2         NaN         NaN                26806.4   \n",
       "19            98519.2         NaN         NaN                19389.6   \n",
       "\n",
       "          Unnamed: 7  Unnamed: 8 Unnamed: 9  Unnamed: 10 Unnamed: 11  \n",
       "0                NaN         NaN        NaN          NaN         NaN  \n",
       "1                NaN         NaN        NaN          NaN         NaN  \n",
       "2                NaN         NaN        NaN          NaN         NaN  \n",
       "3                NaN         NaN        NaN          NaN         NaN  \n",
       "4   Heavy\\n(<25 API)         NaN        NaN          NaN         NaN  \n",
       "5                NaN         NaN      Total          NaN         NaN  \n",
       "6            90128.1         NaN     218240          NaN         NaN  \n",
       "7            81843.1         NaN     214376          NaN         NaN  \n",
       "8            91580.9         NaN     219384          NaN         NaN  \n",
       "9            78239.9         NaN     209316          NaN         NaN  \n",
       "10           97939.7         NaN     237941          NaN         NaN  \n",
       "11           93868.2         NaN     232286          NaN         NaN  \n",
       "12           87349.9         NaN     212118          NaN         NaN  \n",
       "13             84657         NaN     211432          NaN         NaN  \n",
       "14           80536.2         NaN     204048          NaN         NaN  \n",
       "15           90494.5         NaN     219271          NaN         NaN  \n",
       "16           93007.6         NaN     216122          NaN         NaN  \n",
       "17            103901         NaN     235979          NaN         NaN  \n",
       "18           96825.1         NaN     215152          NaN         NaN  \n",
       "19            100609         NaN     218517          NaN         NaN  "
      ],
      "text/html": "<div>\n<style scoped>\n    .dataframe tbody tr th:only-of-type {\n        vertical-align: middle;\n    }\n\n    .dataframe tbody tr th {\n        vertical-align: top;\n    }\n\n    .dataframe thead th {\n        text-align: right;\n    }\n</style>\n<table border=\"1\" class=\"dataframe\">\n  <thead>\n    <tr style=\"text-align: right;\">\n      <th></th>\n      <th>Unnamed: 0</th>\n      <th>Unnamed: 1</th>\n      <th>Unnamed: 2</th>\n      <th>Unnamed: 3</th>\n      <th>Unnamed: 4</th>\n      <th>Unnamed: 5</th>\n      <th>Unnamed: 6</th>\n      <th>Unnamed: 7</th>\n      <th>Unnamed: 8</th>\n      <th>Unnamed: 9</th>\n      <th>Unnamed: 10</th>\n      <th>Unnamed: 11</th>\n    </tr>\n  </thead>\n  <tbody>\n    <tr>\n      <th>0</th>\n      <td>NaN</td>\n      <td>NaN</td>\n      <td>NaN</td>\n      <td>NaN</td>\n      <td>NaN</td>\n      <td>NaN</td>\n      <td>NaN</td>\n      <td>NaN</td>\n      <td>NaN</td>\n      <td>NaN</td>\n      <td>NaN</td>\n      <td>NaN</td>\n    </tr>\n    <tr>\n      <th>1</th>\n      <td>NaN</td>\n      <td>NaN</td>\n      <td>NaN</td>\n      <td>NaN</td>\n      <td>NaN</td>\n      <td>NaN</td>\n      <td>NaN</td>\n      <td>NaN</td>\n      <td>NaN</td>\n      <td>NaN</td>\n      <td>NaN</td>\n      <td>NaN</td>\n    </tr>\n    <tr>\n      <th>2</th>\n      <td>Crude Oil Exports - Summary by Type - Monthly\\...</td>\n      <td>NaN</td>\n      <td>NaN</td>\n      <td>NaN</td>\n      <td>NaN</td>\n      <td>NaN</td>\n      <td>NaN</td>\n      <td>NaN</td>\n      <td>NaN</td>\n      <td>NaN</td>\n      <td>NaN</td>\n      <td>NaN</td>\n    </tr>\n    <tr>\n      <th>3</th>\n      <td>NaN</td>\n      <td>NaN</td>\n      <td>NaN</td>\n      <td>NaN</td>\n      <td>NaN</td>\n      <td>NaN</td>\n      <td>NaN</td>\n      <td>NaN</td>\n      <td>NaN</td>\n      <td>NaN</td>\n      <td>NaN</td>\n      <td>NaN</td>\n    </tr>\n    <tr>\n      <th>4</th>\n      <td>NaN</td>\n      <td>NaN</td>\n      <td>NaN</td>\n      <td>Light\\n(&gt; 30 API)</td>\n      <td>NaN</td>\n      <td>NaN</td>\n      <td>Medium\\n(25 - 30 API)</td>\n      <td>Heavy\\n(&lt;25 API)</td>\n      <td>NaN</td>\n      <td>NaN</td>\n      <td>NaN</td>\n      <td>NaN</td>\n    </tr>\n    <tr>\n      <th>5</th>\n      <td>Period:</td>\n      <td>NaN</td>\n      <td>NaN</td>\n      <td>NaN</td>\n      <td>NaN</td>\n      <td>NaN</td>\n      <td>NaN</td>\n      <td>NaN</td>\n      <td>NaN</td>\n      <td>Total</td>\n      <td>NaN</td>\n      <td>NaN</td>\n    </tr>\n    <tr>\n      <th>6</th>\n      <td>2000-01-01</td>\n      <td>NaN</td>\n      <td>NaN</td>\n      <td>102223</td>\n      <td>NaN</td>\n      <td>NaN</td>\n      <td>25889.1</td>\n      <td>90128.1</td>\n      <td>NaN</td>\n      <td>218240</td>\n      <td>NaN</td>\n      <td>NaN</td>\n    </tr>\n    <tr>\n      <th>7</th>\n      <td>2000-02-01</td>\n      <td>NaN</td>\n      <td>NaN</td>\n      <td>104746</td>\n      <td>NaN</td>\n      <td>NaN</td>\n      <td>27786.6</td>\n      <td>81843.1</td>\n      <td>NaN</td>\n      <td>214376</td>\n      <td>NaN</td>\n      <td>NaN</td>\n    </tr>\n    <tr>\n      <th>8</th>\n      <td>2000-03-01</td>\n      <td>NaN</td>\n      <td>NaN</td>\n      <td>101307</td>\n      <td>NaN</td>\n      <td>NaN</td>\n      <td>26496</td>\n      <td>91580.9</td>\n      <td>NaN</td>\n      <td>219384</td>\n      <td>NaN</td>\n      <td>NaN</td>\n    </tr>\n    <tr>\n      <th>9</th>\n      <td>2000-04-01</td>\n      <td>NaN</td>\n      <td>NaN</td>\n      <td>106014</td>\n      <td>NaN</td>\n      <td>NaN</td>\n      <td>25062.3</td>\n      <td>78239.9</td>\n      <td>NaN</td>\n      <td>209316</td>\n      <td>NaN</td>\n      <td>NaN</td>\n    </tr>\n    <tr>\n      <th>10</th>\n      <td>2000-05-01</td>\n      <td>NaN</td>\n      <td>NaN</td>\n      <td>108434</td>\n      <td>NaN</td>\n      <td>NaN</td>\n      <td>31567.8</td>\n      <td>97939.7</td>\n      <td>NaN</td>\n      <td>237941</td>\n      <td>NaN</td>\n      <td>NaN</td>\n    </tr>\n    <tr>\n      <th>11</th>\n      <td>2000-06-01</td>\n      <td>NaN</td>\n      <td>NaN</td>\n      <td>114142</td>\n      <td>NaN</td>\n      <td>NaN</td>\n      <td>24275</td>\n      <td>93868.2</td>\n      <td>NaN</td>\n      <td>232286</td>\n      <td>NaN</td>\n      <td>NaN</td>\n    </tr>\n    <tr>\n      <th>12</th>\n      <td>2000-07-01</td>\n      <td>NaN</td>\n      <td>NaN</td>\n      <td>94025.7</td>\n      <td>NaN</td>\n      <td>NaN</td>\n      <td>30742.3</td>\n      <td>87349.9</td>\n      <td>NaN</td>\n      <td>212118</td>\n      <td>NaN</td>\n      <td>NaN</td>\n    </tr>\n    <tr>\n      <th>13</th>\n      <td>2000-08-01</td>\n      <td>NaN</td>\n      <td>NaN</td>\n      <td>98057.1</td>\n      <td>NaN</td>\n      <td>NaN</td>\n      <td>28718.4</td>\n      <td>84657</td>\n      <td>NaN</td>\n      <td>211432</td>\n      <td>NaN</td>\n      <td>NaN</td>\n    </tr>\n    <tr>\n      <th>14</th>\n      <td>2000-09-01</td>\n      <td>NaN</td>\n      <td>NaN</td>\n      <td>95258.6</td>\n      <td>NaN</td>\n      <td>NaN</td>\n      <td>28253.1</td>\n      <td>80536.2</td>\n      <td>NaN</td>\n      <td>204048</td>\n      <td>NaN</td>\n      <td>NaN</td>\n    </tr>\n    <tr>\n      <th>15</th>\n      <td>2000-10-01</td>\n      <td>NaN</td>\n      <td>NaN</td>\n      <td>100042</td>\n      <td>NaN</td>\n      <td>NaN</td>\n      <td>28735</td>\n      <td>90494.5</td>\n      <td>NaN</td>\n      <td>219271</td>\n      <td>NaN</td>\n      <td>NaN</td>\n    </tr>\n    <tr>\n      <th>16</th>\n      <td>2000-11-01</td>\n      <td>NaN</td>\n      <td>NaN</td>\n      <td>95753.9</td>\n      <td>NaN</td>\n      <td>NaN</td>\n      <td>27361</td>\n      <td>93007.6</td>\n      <td>NaN</td>\n      <td>216122</td>\n      <td>NaN</td>\n      <td>NaN</td>\n    </tr>\n    <tr>\n      <th>17</th>\n      <td>2000-12-01</td>\n      <td>NaN</td>\n      <td>NaN</td>\n      <td>105556</td>\n      <td>NaN</td>\n      <td>NaN</td>\n      <td>26521.1</td>\n      <td>103901</td>\n      <td>NaN</td>\n      <td>235979</td>\n      <td>NaN</td>\n      <td>NaN</td>\n    </tr>\n    <tr>\n      <th>18</th>\n      <td>2001-01-01</td>\n      <td>NaN</td>\n      <td>NaN</td>\n      <td>91520.2</td>\n      <td>NaN</td>\n      <td>NaN</td>\n      <td>26806.4</td>\n      <td>96825.1</td>\n      <td>NaN</td>\n      <td>215152</td>\n      <td>NaN</td>\n      <td>NaN</td>\n    </tr>\n    <tr>\n      <th>19</th>\n      <td>2001-02-01</td>\n      <td>NaN</td>\n      <td>NaN</td>\n      <td>98519.2</td>\n      <td>NaN</td>\n      <td>NaN</td>\n      <td>19389.6</td>\n      <td>100609</td>\n      <td>NaN</td>\n      <td>218517</td>\n      <td>NaN</td>\n      <td>NaN</td>\n    </tr>\n  </tbody>\n</table>\n</div>"
     },
     "metadata": {},
     "execution_count": 3
    }
   ],
   "source": [
    "# Read excel file and display\n",
    "table_4_df = pd.read_excel(table_4_file)\n",
    "table_4_df.head(20)"
   ]
  },
  {
   "cell_type": "code",
   "execution_count": 4,
   "metadata": {},
   "outputs": [
    {
     "output_type": "execute_result",
     "data": {
      "text/plain": [
       "         Date Light Oil Medium Oil Heavy Oil Oil Export (m3 per day)\n",
       "0  2000-01-01    102223    25889.1   90128.1                  218240\n",
       "1  2000-02-01    104746    27786.6   81843.1                  214376\n",
       "2  2000-03-01    101307      26496   91580.9                  219384\n",
       "3  2000-04-01    106014    25062.3   78239.9                  209316\n",
       "4  2000-05-01    108434    31567.8   97939.7                  237941"
      ],
      "text/html": "<div>\n<style scoped>\n    .dataframe tbody tr th:only-of-type {\n        vertical-align: middle;\n    }\n\n    .dataframe tbody tr th {\n        vertical-align: top;\n    }\n\n    .dataframe thead th {\n        text-align: right;\n    }\n</style>\n<table border=\"1\" class=\"dataframe\">\n  <thead>\n    <tr style=\"text-align: right;\">\n      <th></th>\n      <th>Date</th>\n      <th>Light Oil</th>\n      <th>Medium Oil</th>\n      <th>Heavy Oil</th>\n      <th>Oil Export (m3 per day)</th>\n    </tr>\n  </thead>\n  <tbody>\n    <tr>\n      <th>0</th>\n      <td>2000-01-01</td>\n      <td>102223</td>\n      <td>25889.1</td>\n      <td>90128.1</td>\n      <td>218240</td>\n    </tr>\n    <tr>\n      <th>1</th>\n      <td>2000-02-01</td>\n      <td>104746</td>\n      <td>27786.6</td>\n      <td>81843.1</td>\n      <td>214376</td>\n    </tr>\n    <tr>\n      <th>2</th>\n      <td>2000-03-01</td>\n      <td>101307</td>\n      <td>26496</td>\n      <td>91580.9</td>\n      <td>219384</td>\n    </tr>\n    <tr>\n      <th>3</th>\n      <td>2000-04-01</td>\n      <td>106014</td>\n      <td>25062.3</td>\n      <td>78239.9</td>\n      <td>209316</td>\n    </tr>\n    <tr>\n      <th>4</th>\n      <td>2000-05-01</td>\n      <td>108434</td>\n      <td>31567.8</td>\n      <td>97939.7</td>\n      <td>237941</td>\n    </tr>\n  </tbody>\n</table>\n</div>"
     },
     "metadata": {},
     "execution_count": 4
    }
   ],
   "source": [
    "# Take any row of needed data, drop all NaN values, then get the list of columns\n",
    "sample_row = table_4_df.iloc[6]\n",
    "list_columns = sample_row.dropna().index\n",
    "\n",
    "# Parse the list of needed columns to get the clean df\n",
    "cleaned_table_4_df = table_4_df[list_columns]\n",
    "\n",
    "# Drop all rows with NaN data, reset index and rename columns\n",
    "cleaned_table_4_df.dropna(how = \"any\", inplace = True)\n",
    "cleaned_table_4_df.reset_index(drop = True, inplace = True)\n",
    "cleaned_table_4_df.columns = [\"Date\", \"Light Oil\", \"Medium Oil\", \"Heavy Oil\", \"Oil Export (m3 per day)\"]\n",
    "cleaned_table_4_df[\"Date\"] = cleaned_table_4_df[\"Date\"].str.replace(\" \", \"\")\n",
    "cleaned_table_4_df.head()"
   ]
  },
  {
   "cell_type": "code",
   "execution_count": 5,
   "metadata": {},
   "outputs": [
    {
     "output_type": "execute_result",
     "data": {
      "text/plain": [
       "         Date Light Oil Medium Oil Heavy Oil Oil Export (m3 per day)\n",
       "0  2005-01-01   75902.4    16483.5    145993                  238379\n",
       "1  2005-02-01   83087.1    16602.9    136865                  236555\n",
       "2  2005-03-01   68671.6    17079.5    145111                  230862\n",
       "3  2005-04-01   75845.5    18255.4    152258                  246359\n",
       "4  2005-05-01   99545.6    21165.5    158121                  278832"
      ],
      "text/html": "<div>\n<style scoped>\n    .dataframe tbody tr th:only-of-type {\n        vertical-align: middle;\n    }\n\n    .dataframe tbody tr th {\n        vertical-align: top;\n    }\n\n    .dataframe thead th {\n        text-align: right;\n    }\n</style>\n<table border=\"1\" class=\"dataframe\">\n  <thead>\n    <tr style=\"text-align: right;\">\n      <th></th>\n      <th>Date</th>\n      <th>Light Oil</th>\n      <th>Medium Oil</th>\n      <th>Heavy Oil</th>\n      <th>Oil Export (m3 per day)</th>\n    </tr>\n  </thead>\n  <tbody>\n    <tr>\n      <th>0</th>\n      <td>2005-01-01</td>\n      <td>75902.4</td>\n      <td>16483.5</td>\n      <td>145993</td>\n      <td>238379</td>\n    </tr>\n    <tr>\n      <th>1</th>\n      <td>2005-02-01</td>\n      <td>83087.1</td>\n      <td>16602.9</td>\n      <td>136865</td>\n      <td>236555</td>\n    </tr>\n    <tr>\n      <th>2</th>\n      <td>2005-03-01</td>\n      <td>68671.6</td>\n      <td>17079.5</td>\n      <td>145111</td>\n      <td>230862</td>\n    </tr>\n    <tr>\n      <th>3</th>\n      <td>2005-04-01</td>\n      <td>75845.5</td>\n      <td>18255.4</td>\n      <td>152258</td>\n      <td>246359</td>\n    </tr>\n    <tr>\n      <th>4</th>\n      <td>2005-05-01</td>\n      <td>99545.6</td>\n      <td>21165.5</td>\n      <td>158121</td>\n      <td>278832</td>\n    </tr>\n  </tbody>\n</table>\n</div>"
     },
     "metadata": {},
     "execution_count": 5
    }
   ],
   "source": [
    "# Get data since 2005\n",
    "final_table_4_df = cleaned_table_4_df.loc[cleaned_table_4_df[\"Date\"] >= \"2005-01-01\"].reset_index(drop = True)\n",
    "final_table_4_df.head()"
   ]
  },
  {
   "cell_type": "code",
   "execution_count": 6,
   "metadata": {},
   "outputs": [],
   "source": [
    "# Export to csv\n",
    "final_table_4_df.to_csv(\"Resources/Clean Data/Table 4.csv\", index = False)"
   ]
  },
  {
   "source": [
    "## Table 8 - Canada GDP Data\n",
    "----"
   ],
   "cell_type": "markdown",
   "metadata": {}
  },
  {
   "cell_type": "code",
   "execution_count": 7,
   "metadata": {},
   "outputs": [
    {
     "output_type": "execute_result",
     "data": {
      "text/plain": [
       "   Gross domestic product (GDP) at basic prices, by industry, monthly, industry detail (x 1,000,000) 1 2  \\\n",
       "0                                             Monthly                                                      \n",
       "1     Table: 36-10-0434-04 (formerly CANSIM 379-0031)                                                      \n",
       "2                                   Geography: Canada                                                      \n",
       "3                                                 NaN                                                      \n",
       "4                                                 NaN                                                      \n",
       "5                                                 NaN                                                      \n",
       "6                                                 NaN                                                      \n",
       "7   North American Industry Classification System ...                                                      \n",
       "8                                                 NaN                                                      \n",
       "9    Agriculture, forestry, fishing and hunting  [11]                                                      \n",
       "10                Crop and animal production  [11A] 4                                                      \n",
       "11                             Crop production  [111]                                                      \n",
       "12          Crop production (except cannabis)  [111X]                                                      \n",
       "13                        Cannabis production  [111C]                                                      \n",
       "14            Cannabis production (licensed)  [111CL]                                                      \n",
       "15          Cannabis production (unlicensed)  [111CU]                                                      \n",
       "16                           Animal production  [112]                                                      \n",
       "17                        Forestry and logging  [113]                                                      \n",
       "18               Fishing, hunting and trapping  [114]                                                      \n",
       "19  Support activities for agriculture and forestr...                                                      \n",
       "\n",
       "                             Unnamed: 1 Unnamed: 2 Unnamed: 3 Unnamed: 4  \\\n",
       "0                                   NaN        NaN        NaN        NaN   \n",
       "1                                   NaN        NaN        NaN        NaN   \n",
       "2                                   NaN        NaN        NaN        NaN   \n",
       "3                                   NaN        NaN        NaN        NaN   \n",
       "4   Seasonally adjusted at annual rates        NaN        NaN        NaN   \n",
       "5              Chained (2012) dollars 3        NaN        NaN        NaN   \n",
       "6                                Canada        NaN        NaN        NaN   \n",
       "7                                Jan-00     Feb-00     Mar-00     Apr-00   \n",
       "8                               Dollars        NaN        NaN        NaN   \n",
       "9                                28,095     27,638     28,461     28,216   \n",
       "10                               19,970     19,602     19,943     19,713   \n",
       "11                               15,710     15,563     15,598     15,441   \n",
       "12                               15,506     15,342     15,341     15,135   \n",
       "13                                1,606      1,599      1,601      1,609   \n",
       "14                                   ..         ..         ..         ..   \n",
       "15                                1,606      1,599      1,601      1,609   \n",
       "16                                4,460      4,305      4,477      4,414   \n",
       "17                                4,464      4,458      4,735      4,730   \n",
       "18                                1,154      1,083      1,190      1,197   \n",
       "19                                2,330      2,307      2,302      2,270   \n",
       "\n",
       "   Unnamed: 5 Unnamed: 6 Unnamed: 7 Unnamed: 8 Unnamed: 9  ... Unnamed: 239  \\\n",
       "0         NaN        NaN        NaN        NaN        NaN  ...          NaN   \n",
       "1         NaN        NaN        NaN        NaN        NaN  ...          NaN   \n",
       "2         NaN        NaN        NaN        NaN        NaN  ...          NaN   \n",
       "3         NaN        NaN        NaN        NaN        NaN  ...          NaN   \n",
       "4         NaN        NaN        NaN        NaN        NaN  ...          NaN   \n",
       "5         NaN        NaN        NaN        NaN        NaN  ...          NaN   \n",
       "6         NaN        NaN        NaN        NaN        NaN  ...          NaN   \n",
       "7      May-00     Jun-00     Jul-00     Aug-00     Sep-00  ...       19-Nov   \n",
       "8         NaN        NaN        NaN        NaN        NaN  ...          NaN   \n",
       "9      28,397     28,848     28,793     28,054     27,649  ...       41,436   \n",
       "10     19,561     19,610     19,593     19,584     19,650  ...       35,029   \n",
       "11     15,397     15,225     15,131     15,043     15,009  ...       29,525   \n",
       "12     15,026     14,778     14,595     14,407     14,261  ...       22,098   \n",
       "13      1,617      1,624      1,629      1,645      1,671  ...        7,545   \n",
       "14         ..         ..         ..         ..         ..  ...        4,389   \n",
       "15      1,617      1,624      1,629      1,645      1,671  ...        2,972   \n",
       "16      4,348      4,455      4,493      4,533      4,594  ...        5,588   \n",
       "17      4,932      5,150      5,113      4,649      4,363  ...        3,123   \n",
       "18      1,230      1,236      1,246      1,240      1,221  ...        1,106   \n",
       "19      2,260      2,349      2,353      2,334      2,318  ...        2,609   \n",
       "\n",
       "   Unnamed: 240 Unnamed: 241 Unnamed: 242 Unnamed: 243 Unnamed: 244  \\\n",
       "0           NaN          NaN          NaN          NaN          NaN   \n",
       "1           NaN          NaN          NaN          NaN          NaN   \n",
       "2           NaN          NaN          NaN          NaN          NaN   \n",
       "3           NaN          NaN          NaN          NaN          NaN   \n",
       "4           NaN          NaN          NaN          NaN          NaN   \n",
       "5           NaN          NaN          NaN          NaN          NaN   \n",
       "6           NaN          NaN          NaN          NaN          NaN   \n",
       "7        19-Dec       20-Jan       20-Feb       20-Mar       20-Apr   \n",
       "8           NaN          NaN          NaN          NaN          NaN   \n",
       "9        40,718       40,665       41,001       41,397       41,228   \n",
       "10       34,299       34,190       34,557       34,765       34,576   \n",
       "11       28,752       28,636       29,095       29,246       29,283   \n",
       "12       22,163       22,222       22,370       22,394       22,368   \n",
       "13        6,636        6,447        6,779        6,916        6,984   \n",
       "14        3,558        3,415        3,760        3,920        4,014   \n",
       "15        2,931        2,891        2,863        2,832        2,802   \n",
       "16        5,588        5,588        5,536        5,588        5,413   \n",
       "17        3,113        3,163        3,122        3,352        3,451   \n",
       "18        1,104        1,106        1,094        1,099        1,075   \n",
       "19        2,598        2,593        2,639        2,595        2,552   \n",
       "\n",
       "   Unnamed: 245 Unnamed: 246 Unnamed: 247 Unnamed: 248  \n",
       "0           NaN          NaN          NaN          NaN  \n",
       "1           NaN          NaN          NaN          NaN  \n",
       "2           NaN          NaN          NaN          NaN  \n",
       "3           NaN          NaN          NaN          NaN  \n",
       "4           NaN          NaN          NaN          NaN  \n",
       "5           NaN          NaN          NaN          NaN  \n",
       "6           NaN          NaN          NaN          NaN  \n",
       "7        20-May       20-Jun       20-Jul       20-Aug  \n",
       "8           NaN          NaN          NaN          NaN  \n",
       "9        41,985       42,196       42,008       42,010  \n",
       "10       35,480       36,253       35,775       35,583  \n",
       "11       29,989       30,767       30,260       30,112  \n",
       "12       22,500       22,593       22,727       22,786  \n",
       "13        7,602        8,339        7,645        7,419  \n",
       "14        4,633        5,367        4,722        4,525  \n",
       "15        2,773        2,742        2,722        2,703  \n",
       "16        5,598        5,629        5,629        5,588  \n",
       "17        3,324        2,760        2,928        3,091  \n",
       "18        1,089        1,112        1,125        1,128  \n",
       "19        2,562        2,593        2,645        2,650  \n",
       "\n",
       "[20 rows x 249 columns]"
      ],
      "text/html": "<div>\n<style scoped>\n    .dataframe tbody tr th:only-of-type {\n        vertical-align: middle;\n    }\n\n    .dataframe tbody tr th {\n        vertical-align: top;\n    }\n\n    .dataframe thead th {\n        text-align: right;\n    }\n</style>\n<table border=\"1\" class=\"dataframe\">\n  <thead>\n    <tr style=\"text-align: right;\">\n      <th></th>\n      <th>Gross domestic product (GDP) at basic prices, by industry, monthly, industry detail (x 1,000,000) 1 2</th>\n      <th>Unnamed: 1</th>\n      <th>Unnamed: 2</th>\n      <th>Unnamed: 3</th>\n      <th>Unnamed: 4</th>\n      <th>Unnamed: 5</th>\n      <th>Unnamed: 6</th>\n      <th>Unnamed: 7</th>\n      <th>Unnamed: 8</th>\n      <th>Unnamed: 9</th>\n      <th>...</th>\n      <th>Unnamed: 239</th>\n      <th>Unnamed: 240</th>\n      <th>Unnamed: 241</th>\n      <th>Unnamed: 242</th>\n      <th>Unnamed: 243</th>\n      <th>Unnamed: 244</th>\n      <th>Unnamed: 245</th>\n      <th>Unnamed: 246</th>\n      <th>Unnamed: 247</th>\n      <th>Unnamed: 248</th>\n    </tr>\n  </thead>\n  <tbody>\n    <tr>\n      <th>0</th>\n      <td>Monthly</td>\n      <td>NaN</td>\n      <td>NaN</td>\n      <td>NaN</td>\n      <td>NaN</td>\n      <td>NaN</td>\n      <td>NaN</td>\n      <td>NaN</td>\n      <td>NaN</td>\n      <td>NaN</td>\n      <td>...</td>\n      <td>NaN</td>\n      <td>NaN</td>\n      <td>NaN</td>\n      <td>NaN</td>\n      <td>NaN</td>\n      <td>NaN</td>\n      <td>NaN</td>\n      <td>NaN</td>\n      <td>NaN</td>\n      <td>NaN</td>\n    </tr>\n    <tr>\n      <th>1</th>\n      <td>Table: 36-10-0434-04 (formerly CANSIM 379-0031)</td>\n      <td>NaN</td>\n      <td>NaN</td>\n      <td>NaN</td>\n      <td>NaN</td>\n      <td>NaN</td>\n      <td>NaN</td>\n      <td>NaN</td>\n      <td>NaN</td>\n      <td>NaN</td>\n      <td>...</td>\n      <td>NaN</td>\n      <td>NaN</td>\n      <td>NaN</td>\n      <td>NaN</td>\n      <td>NaN</td>\n      <td>NaN</td>\n      <td>NaN</td>\n      <td>NaN</td>\n      <td>NaN</td>\n      <td>NaN</td>\n    </tr>\n    <tr>\n      <th>2</th>\n      <td>Geography: Canada</td>\n      <td>NaN</td>\n      <td>NaN</td>\n      <td>NaN</td>\n      <td>NaN</td>\n      <td>NaN</td>\n      <td>NaN</td>\n      <td>NaN</td>\n      <td>NaN</td>\n      <td>NaN</td>\n      <td>...</td>\n      <td>NaN</td>\n      <td>NaN</td>\n      <td>NaN</td>\n      <td>NaN</td>\n      <td>NaN</td>\n      <td>NaN</td>\n      <td>NaN</td>\n      <td>NaN</td>\n      <td>NaN</td>\n      <td>NaN</td>\n    </tr>\n    <tr>\n      <th>3</th>\n      <td>NaN</td>\n      <td>NaN</td>\n      <td>NaN</td>\n      <td>NaN</td>\n      <td>NaN</td>\n      <td>NaN</td>\n      <td>NaN</td>\n      <td>NaN</td>\n      <td>NaN</td>\n      <td>NaN</td>\n      <td>...</td>\n      <td>NaN</td>\n      <td>NaN</td>\n      <td>NaN</td>\n      <td>NaN</td>\n      <td>NaN</td>\n      <td>NaN</td>\n      <td>NaN</td>\n      <td>NaN</td>\n      <td>NaN</td>\n      <td>NaN</td>\n    </tr>\n    <tr>\n      <th>4</th>\n      <td>NaN</td>\n      <td>Seasonally adjusted at annual rates</td>\n      <td>NaN</td>\n      <td>NaN</td>\n      <td>NaN</td>\n      <td>NaN</td>\n      <td>NaN</td>\n      <td>NaN</td>\n      <td>NaN</td>\n      <td>NaN</td>\n      <td>...</td>\n      <td>NaN</td>\n      <td>NaN</td>\n      <td>NaN</td>\n      <td>NaN</td>\n      <td>NaN</td>\n      <td>NaN</td>\n      <td>NaN</td>\n      <td>NaN</td>\n      <td>NaN</td>\n      <td>NaN</td>\n    </tr>\n    <tr>\n      <th>5</th>\n      <td>NaN</td>\n      <td>Chained (2012) dollars 3</td>\n      <td>NaN</td>\n      <td>NaN</td>\n      <td>NaN</td>\n      <td>NaN</td>\n      <td>NaN</td>\n      <td>NaN</td>\n      <td>NaN</td>\n      <td>NaN</td>\n      <td>...</td>\n      <td>NaN</td>\n      <td>NaN</td>\n      <td>NaN</td>\n      <td>NaN</td>\n      <td>NaN</td>\n      <td>NaN</td>\n      <td>NaN</td>\n      <td>NaN</td>\n      <td>NaN</td>\n      <td>NaN</td>\n    </tr>\n    <tr>\n      <th>6</th>\n      <td>NaN</td>\n      <td>Canada</td>\n      <td>NaN</td>\n      <td>NaN</td>\n      <td>NaN</td>\n      <td>NaN</td>\n      <td>NaN</td>\n      <td>NaN</td>\n      <td>NaN</td>\n      <td>NaN</td>\n      <td>...</td>\n      <td>NaN</td>\n      <td>NaN</td>\n      <td>NaN</td>\n      <td>NaN</td>\n      <td>NaN</td>\n      <td>NaN</td>\n      <td>NaN</td>\n      <td>NaN</td>\n      <td>NaN</td>\n      <td>NaN</td>\n    </tr>\n    <tr>\n      <th>7</th>\n      <td>North American Industry Classification System ...</td>\n      <td>Jan-00</td>\n      <td>Feb-00</td>\n      <td>Mar-00</td>\n      <td>Apr-00</td>\n      <td>May-00</td>\n      <td>Jun-00</td>\n      <td>Jul-00</td>\n      <td>Aug-00</td>\n      <td>Sep-00</td>\n      <td>...</td>\n      <td>19-Nov</td>\n      <td>19-Dec</td>\n      <td>20-Jan</td>\n      <td>20-Feb</td>\n      <td>20-Mar</td>\n      <td>20-Apr</td>\n      <td>20-May</td>\n      <td>20-Jun</td>\n      <td>20-Jul</td>\n      <td>20-Aug</td>\n    </tr>\n    <tr>\n      <th>8</th>\n      <td>NaN</td>\n      <td>Dollars</td>\n      <td>NaN</td>\n      <td>NaN</td>\n      <td>NaN</td>\n      <td>NaN</td>\n      <td>NaN</td>\n      <td>NaN</td>\n      <td>NaN</td>\n      <td>NaN</td>\n      <td>...</td>\n      <td>NaN</td>\n      <td>NaN</td>\n      <td>NaN</td>\n      <td>NaN</td>\n      <td>NaN</td>\n      <td>NaN</td>\n      <td>NaN</td>\n      <td>NaN</td>\n      <td>NaN</td>\n      <td>NaN</td>\n    </tr>\n    <tr>\n      <th>9</th>\n      <td>Agriculture, forestry, fishing and hunting  [11]</td>\n      <td>28,095</td>\n      <td>27,638</td>\n      <td>28,461</td>\n      <td>28,216</td>\n      <td>28,397</td>\n      <td>28,848</td>\n      <td>28,793</td>\n      <td>28,054</td>\n      <td>27,649</td>\n      <td>...</td>\n      <td>41,436</td>\n      <td>40,718</td>\n      <td>40,665</td>\n      <td>41,001</td>\n      <td>41,397</td>\n      <td>41,228</td>\n      <td>41,985</td>\n      <td>42,196</td>\n      <td>42,008</td>\n      <td>42,010</td>\n    </tr>\n    <tr>\n      <th>10</th>\n      <td>Crop and animal production  [11A] 4</td>\n      <td>19,970</td>\n      <td>19,602</td>\n      <td>19,943</td>\n      <td>19,713</td>\n      <td>19,561</td>\n      <td>19,610</td>\n      <td>19,593</td>\n      <td>19,584</td>\n      <td>19,650</td>\n      <td>...</td>\n      <td>35,029</td>\n      <td>34,299</td>\n      <td>34,190</td>\n      <td>34,557</td>\n      <td>34,765</td>\n      <td>34,576</td>\n      <td>35,480</td>\n      <td>36,253</td>\n      <td>35,775</td>\n      <td>35,583</td>\n    </tr>\n    <tr>\n      <th>11</th>\n      <td>Crop production  [111]</td>\n      <td>15,710</td>\n      <td>15,563</td>\n      <td>15,598</td>\n      <td>15,441</td>\n      <td>15,397</td>\n      <td>15,225</td>\n      <td>15,131</td>\n      <td>15,043</td>\n      <td>15,009</td>\n      <td>...</td>\n      <td>29,525</td>\n      <td>28,752</td>\n      <td>28,636</td>\n      <td>29,095</td>\n      <td>29,246</td>\n      <td>29,283</td>\n      <td>29,989</td>\n      <td>30,767</td>\n      <td>30,260</td>\n      <td>30,112</td>\n    </tr>\n    <tr>\n      <th>12</th>\n      <td>Crop production (except cannabis)  [111X]</td>\n      <td>15,506</td>\n      <td>15,342</td>\n      <td>15,341</td>\n      <td>15,135</td>\n      <td>15,026</td>\n      <td>14,778</td>\n      <td>14,595</td>\n      <td>14,407</td>\n      <td>14,261</td>\n      <td>...</td>\n      <td>22,098</td>\n      <td>22,163</td>\n      <td>22,222</td>\n      <td>22,370</td>\n      <td>22,394</td>\n      <td>22,368</td>\n      <td>22,500</td>\n      <td>22,593</td>\n      <td>22,727</td>\n      <td>22,786</td>\n    </tr>\n    <tr>\n      <th>13</th>\n      <td>Cannabis production  [111C]</td>\n      <td>1,606</td>\n      <td>1,599</td>\n      <td>1,601</td>\n      <td>1,609</td>\n      <td>1,617</td>\n      <td>1,624</td>\n      <td>1,629</td>\n      <td>1,645</td>\n      <td>1,671</td>\n      <td>...</td>\n      <td>7,545</td>\n      <td>6,636</td>\n      <td>6,447</td>\n      <td>6,779</td>\n      <td>6,916</td>\n      <td>6,984</td>\n      <td>7,602</td>\n      <td>8,339</td>\n      <td>7,645</td>\n      <td>7,419</td>\n    </tr>\n    <tr>\n      <th>14</th>\n      <td>Cannabis production (licensed)  [111CL]</td>\n      <td>..</td>\n      <td>..</td>\n      <td>..</td>\n      <td>..</td>\n      <td>..</td>\n      <td>..</td>\n      <td>..</td>\n      <td>..</td>\n      <td>..</td>\n      <td>...</td>\n      <td>4,389</td>\n      <td>3,558</td>\n      <td>3,415</td>\n      <td>3,760</td>\n      <td>3,920</td>\n      <td>4,014</td>\n      <td>4,633</td>\n      <td>5,367</td>\n      <td>4,722</td>\n      <td>4,525</td>\n    </tr>\n    <tr>\n      <th>15</th>\n      <td>Cannabis production (unlicensed)  [111CU]</td>\n      <td>1,606</td>\n      <td>1,599</td>\n      <td>1,601</td>\n      <td>1,609</td>\n      <td>1,617</td>\n      <td>1,624</td>\n      <td>1,629</td>\n      <td>1,645</td>\n      <td>1,671</td>\n      <td>...</td>\n      <td>2,972</td>\n      <td>2,931</td>\n      <td>2,891</td>\n      <td>2,863</td>\n      <td>2,832</td>\n      <td>2,802</td>\n      <td>2,773</td>\n      <td>2,742</td>\n      <td>2,722</td>\n      <td>2,703</td>\n    </tr>\n    <tr>\n      <th>16</th>\n      <td>Animal production  [112]</td>\n      <td>4,460</td>\n      <td>4,305</td>\n      <td>4,477</td>\n      <td>4,414</td>\n      <td>4,348</td>\n      <td>4,455</td>\n      <td>4,493</td>\n      <td>4,533</td>\n      <td>4,594</td>\n      <td>...</td>\n      <td>5,588</td>\n      <td>5,588</td>\n      <td>5,588</td>\n      <td>5,536</td>\n      <td>5,588</td>\n      <td>5,413</td>\n      <td>5,598</td>\n      <td>5,629</td>\n      <td>5,629</td>\n      <td>5,588</td>\n    </tr>\n    <tr>\n      <th>17</th>\n      <td>Forestry and logging  [113]</td>\n      <td>4,464</td>\n      <td>4,458</td>\n      <td>4,735</td>\n      <td>4,730</td>\n      <td>4,932</td>\n      <td>5,150</td>\n      <td>5,113</td>\n      <td>4,649</td>\n      <td>4,363</td>\n      <td>...</td>\n      <td>3,123</td>\n      <td>3,113</td>\n      <td>3,163</td>\n      <td>3,122</td>\n      <td>3,352</td>\n      <td>3,451</td>\n      <td>3,324</td>\n      <td>2,760</td>\n      <td>2,928</td>\n      <td>3,091</td>\n    </tr>\n    <tr>\n      <th>18</th>\n      <td>Fishing, hunting and trapping  [114]</td>\n      <td>1,154</td>\n      <td>1,083</td>\n      <td>1,190</td>\n      <td>1,197</td>\n      <td>1,230</td>\n      <td>1,236</td>\n      <td>1,246</td>\n      <td>1,240</td>\n      <td>1,221</td>\n      <td>...</td>\n      <td>1,106</td>\n      <td>1,104</td>\n      <td>1,106</td>\n      <td>1,094</td>\n      <td>1,099</td>\n      <td>1,075</td>\n      <td>1,089</td>\n      <td>1,112</td>\n      <td>1,125</td>\n      <td>1,128</td>\n    </tr>\n    <tr>\n      <th>19</th>\n      <td>Support activities for agriculture and forestr...</td>\n      <td>2,330</td>\n      <td>2,307</td>\n      <td>2,302</td>\n      <td>2,270</td>\n      <td>2,260</td>\n      <td>2,349</td>\n      <td>2,353</td>\n      <td>2,334</td>\n      <td>2,318</td>\n      <td>...</td>\n      <td>2,609</td>\n      <td>2,598</td>\n      <td>2,593</td>\n      <td>2,639</td>\n      <td>2,595</td>\n      <td>2,552</td>\n      <td>2,562</td>\n      <td>2,593</td>\n      <td>2,645</td>\n      <td>2,650</td>\n    </tr>\n  </tbody>\n</table>\n<p>20 rows × 249 columns</p>\n</div>"
     },
     "metadata": {},
     "execution_count": 7
    }
   ],
   "source": [
    "# Read csv and Cleaning the Canada GDP csv\n",
    "table_8_df = pd.read_csv(table_8_file)\n",
    "table_8_df.head(20)"
   ]
  },
  {
   "cell_type": "code",
   "execution_count": 8,
   "metadata": {},
   "outputs": [
    {
     "output_type": "execute_result",
     "data": {
      "text/plain": [
       "  Gross domestic product (GDP) at basic prices, by industry, monthly, industry detail (x 1,000,000) 1 2  \\\n",
       "0  North American Industry Classification System ...                                                      \n",
       "1                      Oil and gas extraction  [211]                                                      \n",
       "2  Oil and gas extraction (except oil sands)  [21...                                                      \n",
       "3                      Oil sands extraction  [21114]                                                      \n",
       "\n",
       "  Unnamed: 1 Unnamed: 2 Unnamed: 3 Unnamed: 4 Unnamed: 5 Unnamed: 6  \\\n",
       "0     Jan-00     Feb-00     Mar-00     Apr-00     May-00     Jun-00   \n",
       "1     69,825     69,154     68,513     69,640     69,412     69,491   \n",
       "2         ..         ..         ..         ..         ..         ..   \n",
       "3         ..         ..         ..         ..         ..         ..   \n",
       "\n",
       "  Unnamed: 7 Unnamed: 8 Unnamed: 9  ... Unnamed: 239 Unnamed: 240  \\\n",
       "0     Jul-00     Aug-00     Sep-00  ...       19-Nov       19-Dec   \n",
       "1     68,357     68,179     68,884  ...      109,386      110,088   \n",
       "2         ..         ..         ..  ...       55,738       53,935   \n",
       "3         ..         ..         ..  ...       54,466       56,914   \n",
       "\n",
       "  Unnamed: 241 Unnamed: 242 Unnamed: 243 Unnamed: 244 Unnamed: 245  \\\n",
       "0       20-Jan       20-Feb       20-Mar       20-Apr       20-May   \n",
       "1      109,236      109,549      109,250      103,118       99,818   \n",
       "2       52,645       53,965       53,619       49,829       48,269   \n",
       "3       57,321       56,351       56,388       53,982       52,220   \n",
       "\n",
       "  Unnamed: 246 Unnamed: 247 Unnamed: 248  \n",
       "0       20-Jun       20-Jul       20-Aug  \n",
       "1      100,173       97,703       93,892  \n",
       "2       50,583       49,222       49,122  \n",
       "3       50,325       49,194       45,508  \n",
       "\n",
       "[4 rows x 249 columns]"
      ],
      "text/html": "<div>\n<style scoped>\n    .dataframe tbody tr th:only-of-type {\n        vertical-align: middle;\n    }\n\n    .dataframe tbody tr th {\n        vertical-align: top;\n    }\n\n    .dataframe thead th {\n        text-align: right;\n    }\n</style>\n<table border=\"1\" class=\"dataframe\">\n  <thead>\n    <tr style=\"text-align: right;\">\n      <th></th>\n      <th>Gross domestic product (GDP) at basic prices, by industry, monthly, industry detail (x 1,000,000) 1 2</th>\n      <th>Unnamed: 1</th>\n      <th>Unnamed: 2</th>\n      <th>Unnamed: 3</th>\n      <th>Unnamed: 4</th>\n      <th>Unnamed: 5</th>\n      <th>Unnamed: 6</th>\n      <th>Unnamed: 7</th>\n      <th>Unnamed: 8</th>\n      <th>Unnamed: 9</th>\n      <th>...</th>\n      <th>Unnamed: 239</th>\n      <th>Unnamed: 240</th>\n      <th>Unnamed: 241</th>\n      <th>Unnamed: 242</th>\n      <th>Unnamed: 243</th>\n      <th>Unnamed: 244</th>\n      <th>Unnamed: 245</th>\n      <th>Unnamed: 246</th>\n      <th>Unnamed: 247</th>\n      <th>Unnamed: 248</th>\n    </tr>\n  </thead>\n  <tbody>\n    <tr>\n      <th>0</th>\n      <td>North American Industry Classification System ...</td>\n      <td>Jan-00</td>\n      <td>Feb-00</td>\n      <td>Mar-00</td>\n      <td>Apr-00</td>\n      <td>May-00</td>\n      <td>Jun-00</td>\n      <td>Jul-00</td>\n      <td>Aug-00</td>\n      <td>Sep-00</td>\n      <td>...</td>\n      <td>19-Nov</td>\n      <td>19-Dec</td>\n      <td>20-Jan</td>\n      <td>20-Feb</td>\n      <td>20-Mar</td>\n      <td>20-Apr</td>\n      <td>20-May</td>\n      <td>20-Jun</td>\n      <td>20-Jul</td>\n      <td>20-Aug</td>\n    </tr>\n    <tr>\n      <th>1</th>\n      <td>Oil and gas extraction  [211]</td>\n      <td>69,825</td>\n      <td>69,154</td>\n      <td>68,513</td>\n      <td>69,640</td>\n      <td>69,412</td>\n      <td>69,491</td>\n      <td>68,357</td>\n      <td>68,179</td>\n      <td>68,884</td>\n      <td>...</td>\n      <td>109,386</td>\n      <td>110,088</td>\n      <td>109,236</td>\n      <td>109,549</td>\n      <td>109,250</td>\n      <td>103,118</td>\n      <td>99,818</td>\n      <td>100,173</td>\n      <td>97,703</td>\n      <td>93,892</td>\n    </tr>\n    <tr>\n      <th>2</th>\n      <td>Oil and gas extraction (except oil sands)  [21...</td>\n      <td>..</td>\n      <td>..</td>\n      <td>..</td>\n      <td>..</td>\n      <td>..</td>\n      <td>..</td>\n      <td>..</td>\n      <td>..</td>\n      <td>..</td>\n      <td>...</td>\n      <td>55,738</td>\n      <td>53,935</td>\n      <td>52,645</td>\n      <td>53,965</td>\n      <td>53,619</td>\n      <td>49,829</td>\n      <td>48,269</td>\n      <td>50,583</td>\n      <td>49,222</td>\n      <td>49,122</td>\n    </tr>\n    <tr>\n      <th>3</th>\n      <td>Oil sands extraction  [21114]</td>\n      <td>..</td>\n      <td>..</td>\n      <td>..</td>\n      <td>..</td>\n      <td>..</td>\n      <td>..</td>\n      <td>..</td>\n      <td>..</td>\n      <td>..</td>\n      <td>...</td>\n      <td>54,466</td>\n      <td>56,914</td>\n      <td>57,321</td>\n      <td>56,351</td>\n      <td>56,388</td>\n      <td>53,982</td>\n      <td>52,220</td>\n      <td>50,325</td>\n      <td>49,194</td>\n      <td>45,508</td>\n    </tr>\n  </tbody>\n</table>\n<p>4 rows × 249 columns</p>\n</div>"
     },
     "metadata": {},
     "execution_count": 8
    }
   ],
   "source": [
    "# Drop all NaN values rows\n",
    "new_table_8_df = table_8_df.dropna(axis = 0, how = \"any\")\n",
    "\n",
    "# Filter out the columns which contain word \"Oil\"\n",
    "table_8_filter_1 = new_table_8_df[new_table_8_df.columns[0]].str.contains(\"NAICS\")\n",
    "table_8_filter_2 = new_table_8_df[new_table_8_df.columns[0]].str.contains(\"Oil\")\n",
    "new_table_8_df = new_table_8_df[table_8_filter_1].append(new_table_8_df[table_8_filter_2]).reset_index(drop = True)\n",
    "new_table_8_df"
   ]
  },
  {
   "cell_type": "code",
   "execution_count": 9,
   "metadata": {},
   "outputs": [
    {
     "output_type": "execute_result",
     "data": {
      "text/plain": [
       "        Date  Oil and gas extraction (million dollars)\n",
       "0 2005-01-01                                   75199.0\n",
       "1 2005-02-01                                   73681.0\n",
       "2 2005-03-01                                   72409.0\n",
       "3 2005-04-01                                   74726.0\n",
       "4 2005-05-01                                   75464.0\n",
       "5 2005-06-01                                   74848.0\n",
       "6 2005-07-01                                   74822.0\n",
       "7 2005-08-01                                   75521.0\n",
       "8 2005-09-01                                   76413.0\n",
       "9 2005-10-01                                   77135.0"
      ],
      "text/html": "<div>\n<style scoped>\n    .dataframe tbody tr th:only-of-type {\n        vertical-align: middle;\n    }\n\n    .dataframe tbody tr th {\n        vertical-align: top;\n    }\n\n    .dataframe thead th {\n        text-align: right;\n    }\n</style>\n<table border=\"1\" class=\"dataframe\">\n  <thead>\n    <tr style=\"text-align: right;\">\n      <th></th>\n      <th>Date</th>\n      <th>Oil and gas extraction (million dollars)</th>\n    </tr>\n  </thead>\n  <tbody>\n    <tr>\n      <th>0</th>\n      <td>2005-01-01</td>\n      <td>75199.0</td>\n    </tr>\n    <tr>\n      <th>1</th>\n      <td>2005-02-01</td>\n      <td>73681.0</td>\n    </tr>\n    <tr>\n      <th>2</th>\n      <td>2005-03-01</td>\n      <td>72409.0</td>\n    </tr>\n    <tr>\n      <th>3</th>\n      <td>2005-04-01</td>\n      <td>74726.0</td>\n    </tr>\n    <tr>\n      <th>4</th>\n      <td>2005-05-01</td>\n      <td>75464.0</td>\n    </tr>\n    <tr>\n      <th>5</th>\n      <td>2005-06-01</td>\n      <td>74848.0</td>\n    </tr>\n    <tr>\n      <th>6</th>\n      <td>2005-07-01</td>\n      <td>74822.0</td>\n    </tr>\n    <tr>\n      <th>7</th>\n      <td>2005-08-01</td>\n      <td>75521.0</td>\n    </tr>\n    <tr>\n      <th>8</th>\n      <td>2005-09-01</td>\n      <td>76413.0</td>\n    </tr>\n    <tr>\n      <th>9</th>\n      <td>2005-10-01</td>\n      <td>77135.0</td>\n    </tr>\n  </tbody>\n</table>\n</div>"
     },
     "metadata": {},
     "execution_count": 9
    }
   ],
   "source": [
    "# Only get the total oil and gas contribution to GDP\n",
    "oil_table_8_df = new_table_8_df.iloc[0:2]\n",
    "oil_table_8_df.set_index(oil_table_8_df.columns[0], inplace = True)\n",
    "oil_table_8_df.index.name = None\n",
    "\n",
    "# Transpose the dataframe and reset its index\n",
    "clean_table_8_df = oil_table_8_df.T.reset_index(drop = True)\n",
    "\n",
    "# Rename columns\n",
    "clean_table_8_df.columns = [\"Date\", \"Oil and gas extraction (million dollars)\"]\n",
    "\n",
    "# Remove rows with year 2000\n",
    "table_8_filter_3 = clean_table_8_df[\"Date\"].str.contains(\"00\")\n",
    "final_table_8_df = clean_table_8_df[~table_8_filter_3]\n",
    "final_table_8_df[\"Date\"] = pd.to_datetime(final_table_8_df[\"Date\"], format = \"%y-%b\")\n",
    "\n",
    "# Get only the data since 2005\n",
    "final_table_8_df = final_table_8_df[final_table_8_df[\"Date\"]>= \"2005-01-01\"].reset_index(drop = True)\n",
    "\n",
    "# Change the number to float\n",
    "final_table_8_df[\"Oil and gas extraction (million dollars)\"] = \\\n",
    "    final_table_8_df[\"Oil and gas extraction (million dollars)\"].str.replace(\",\", \"\").astype(float)\n",
    "\n",
    "final_table_8_df.head(10)"
   ]
  },
  {
   "cell_type": "code",
   "execution_count": 10,
   "metadata": {},
   "outputs": [],
   "source": [
    "# Export to csv\n",
    "final_table_8_df.to_csv(\"Resources/Clean Data/Table 8.csv\", index = False)"
   ]
  },
  {
   "source": [
    "# Transformation from processed dataset\n"
   ],
   "cell_type": "markdown",
   "metadata": {}
  },
  {
   "cell_type": "code",
   "execution_count": 15,
   "metadata": {},
   "outputs": [],
   "source": [
    "# Read table 4, 8 and exchange rate csvs\n",
    "tab_4_df = pd.read_csv(\"Resources/Clean Data/Table 4.csv\")\n",
    "tab_8_df = pd.read_csv(\"Resources/Clean Data/Table 8.csv\")\n",
    "exchange_df = pd.read_csv(\"Resources/Clean Data/Monthly_Exchange_Rate.csv\")\n",
    "\n",
    "# Filter required columns\n",
    "tab_4_df = tab_4_df[[\"Date\", \"Oil Export (m3 per day)\"]]\n",
    "exchange_df = exchange_df[[\"Date\", \"CAD/USD\"]]"
   ]
  },
  {
   "cell_type": "code",
   "execution_count": 16,
   "metadata": {},
   "outputs": [
    {
     "output_type": "execute_result",
     "data": {
      "text/plain": [
       "         Date  Oil Export (m3 per day)  \\\n",
       "0  2005-01-01                238378.82   \n",
       "1  2005-02-01                236555.08   \n",
       "2  2005-03-01                230862.26   \n",
       "3  2005-04-01                246359.10   \n",
       "4  2005-05-01                278832.47   \n",
       "\n",
       "   Oil and gas extraction (million dollars)   CAD/USD  \n",
       "0                                   75199.0  0.829739  \n",
       "1                                   73681.0  0.806476  \n",
       "2                                   72409.0  0.810499  \n",
       "3                                   74726.0  0.823526  \n",
       "4                                   75464.0  0.800259  "
      ],
      "text/html": "<div>\n<style scoped>\n    .dataframe tbody tr th:only-of-type {\n        vertical-align: middle;\n    }\n\n    .dataframe tbody tr th {\n        vertical-align: top;\n    }\n\n    .dataframe thead th {\n        text-align: right;\n    }\n</style>\n<table border=\"1\" class=\"dataframe\">\n  <thead>\n    <tr style=\"text-align: right;\">\n      <th></th>\n      <th>Date</th>\n      <th>Oil Export (m3 per day)</th>\n      <th>Oil and gas extraction (million dollars)</th>\n      <th>CAD/USD</th>\n    </tr>\n  </thead>\n  <tbody>\n    <tr>\n      <th>0</th>\n      <td>2005-01-01</td>\n      <td>238378.82</td>\n      <td>75199.0</td>\n      <td>0.829739</td>\n    </tr>\n    <tr>\n      <th>1</th>\n      <td>2005-02-01</td>\n      <td>236555.08</td>\n      <td>73681.0</td>\n      <td>0.806476</td>\n    </tr>\n    <tr>\n      <th>2</th>\n      <td>2005-03-01</td>\n      <td>230862.26</td>\n      <td>72409.0</td>\n      <td>0.810499</td>\n    </tr>\n    <tr>\n      <th>3</th>\n      <td>2005-04-01</td>\n      <td>246359.10</td>\n      <td>74726.0</td>\n      <td>0.823526</td>\n    </tr>\n    <tr>\n      <th>4</th>\n      <td>2005-05-01</td>\n      <td>278832.47</td>\n      <td>75464.0</td>\n      <td>0.800259</td>\n    </tr>\n  </tbody>\n</table>\n</div>"
     },
     "metadata": {},
     "execution_count": 16
    }
   ],
   "source": [
    "# Merge all three csvs\n",
    "tab_4_8_df = pd.merge(tab_4_df, tab_8_df, on = \"Date\", how = \"left\")\n",
    "can_df = pd.merge(tab_4_8_df, exchange_df, on = \"Date\", how = \"left\")\n",
    "can_df.head()"
   ]
  },
  {
   "cell_type": "code",
   "execution_count": 17,
   "metadata": {},
   "outputs": [],
   "source": [
    "# Export csv\n",
    "can_df.to_csv(\"Transformed Data/Part 2.csv\", index = False)"
   ]
  }
 ]
}