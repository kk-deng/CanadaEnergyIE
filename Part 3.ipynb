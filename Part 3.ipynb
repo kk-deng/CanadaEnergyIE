{
 "cells": [
  {
   "cell_type": "markdown",
   "metadata": {},
   "source": [
    "## This Analysis will focus on answering the following questions: \n",
    "\n",
    "Q5/ Electricity production from renewable sources in US\n",
    "\n",
    "Q6/ Correlation of electricity production from renewable sources with USD"
   ]
  },
  {
   "cell_type": "code",
   "execution_count": 61,
   "metadata": {},
   "outputs": [],
   "source": [
    "import pandas as pd \n",
    "import os \n",
    "import csv\n",
    "import datetime as dt "
   ]
  },
  {
   "cell_type": "code",
   "execution_count": 62,
   "metadata": {},
   "outputs": [],
   "source": [
    "US_filepath = os.path.join(\"Resources\\Raw Data\\Table 2 - US_electricity_net_gen_from_renewable_en_1990_2020.csv\")\n",
    "USD_filepath = os.path.join(\"Resources\\Raw Data\\Table 3 - US-dollar-index-historical-chart.csv\")\n",
    "\n",
    "US_electricity = pd.read_csv(US_filepath)\n",
    "USD_data = pd.read_csv(USD_filepath)"
   ]
  },
  {
   "cell_type": "code",
   "execution_count": 63,
   "metadata": {},
   "outputs": [],
   "source": [
    "#isolating US_electricity data for only 2005 to 2019 data \n",
    "\n",
    "US_electricity = US_electricity.loc[(US_electricity[\"YYYYMM\"] <= 201912) & (US_electricity[\"YYYYMM\"] >= 200501) ]\n"
   ]
  },
  {
   "cell_type": "code",
   "execution_count": 64,
   "metadata": {},
   "outputs": [],
   "source": [
    "#no days were provided in date data. Will assume data was collected at the first day of the month. \n",
    "\n",
    "US_electricity[\"YYYYMM\"] = US_electricity['YYYYMM'].astype(str)\n",
    "\n",
    "US_electricity[\"Date (YYYY-MM-01)\"] = US_electricity[\"YYYYMM\"]+str(\"01\")\n",
    "\n",
    "# there is a 13th month for the cumulative total. Removing this data. \n",
    "\n",
    "US_electricity[\"Month\"] = US_electricity[\"YYYYMM\"].str[-2:]\n",
    "US_electricity[\"Month\"] = US_electricity[\"Month\"].astype(int)\n",
    "\n",
    "US_electricity = US_electricity.loc[ US_electricity[\"Month\"] != 13]\n",
    "\n"
   ]
  },
  {
   "cell_type": "code",
   "execution_count": 65,
   "metadata": {},
   "outputs": [],
   "source": [
    "#clean up columns \n",
    "#US_electricity[unit] only includes million kilowatthours (can remove)\n",
    "\n",
    "US_electricity = US_electricity.loc[US_electricity[\"Value\"] != \"Not Available\"]\n",
    "\n",
    "\n",
    "US_electricity = US_electricity.drop(columns=[\"YYYYMM\", \"Month\", \"MSN\", \"Column_Order\", \"Unit\"])\n",
    "US_electricity = US_electricity.rename(columns= {\"Date (YYYY-MM-01)\" : \"Date\", \n",
    "                                                \"Value\" : \"Value (million kWh)\"})\n"
   ]
  },
  {
   "cell_type": "code",
   "execution_count": 66,
   "metadata": {},
   "outputs": [
    {
     "data": {
      "text/html": [
       "<div>\n",
       "<style scoped>\n",
       "    .dataframe tbody tr th:only-of-type {\n",
       "        vertical-align: middle;\n",
       "    }\n",
       "\n",
       "    .dataframe tbody tr th {\n",
       "        vertical-align: top;\n",
       "    }\n",
       "\n",
       "    .dataframe thead th {\n",
       "        text-align: right;\n",
       "    }\n",
       "</style>\n",
       "<table border=\"1\" class=\"dataframe\">\n",
       "  <thead>\n",
       "    <tr style=\"text-align: right;\">\n",
       "      <th></th>\n",
       "      <th>Value (million kWh)</th>\n",
       "      <th>Description</th>\n",
       "      <th>Date</th>\n",
       "    </tr>\n",
       "  </thead>\n",
       "  <tbody>\n",
       "    <tr>\n",
       "      <th>440</th>\n",
       "      <td>177013.907</td>\n",
       "      <td>Electricity Net Generation From Coal, All Sectors</td>\n",
       "      <td>2005-01-01</td>\n",
       "    </tr>\n",
       "    <tr>\n",
       "      <th>441</th>\n",
       "      <td>155818.014</td>\n",
       "      <td>Electricity Net Generation From Coal, All Sectors</td>\n",
       "      <td>2005-02-01</td>\n",
       "    </tr>\n",
       "    <tr>\n",
       "      <th>442</th>\n",
       "      <td>163612.7</td>\n",
       "      <td>Electricity Net Generation From Coal, All Sectors</td>\n",
       "      <td>2005-03-01</td>\n",
       "    </tr>\n",
       "    <tr>\n",
       "      <th>443</th>\n",
       "      <td>143083.239</td>\n",
       "      <td>Electricity Net Generation From Coal, All Sectors</td>\n",
       "      <td>2005-04-01</td>\n",
       "    </tr>\n",
       "    <tr>\n",
       "      <th>444</th>\n",
       "      <td>153957.962</td>\n",
       "      <td>Electricity Net Generation From Coal, All Sectors</td>\n",
       "      <td>2005-05-01</td>\n",
       "    </tr>\n",
       "  </tbody>\n",
       "</table>\n",
       "</div>"
      ],
      "text/plain": [
       "    Value (million kWh)                                        Description  \\\n",
       "440          177013.907  Electricity Net Generation From Coal, All Sectors   \n",
       "441          155818.014  Electricity Net Generation From Coal, All Sectors   \n",
       "442            163612.7  Electricity Net Generation From Coal, All Sectors   \n",
       "443          143083.239  Electricity Net Generation From Coal, All Sectors   \n",
       "444          153957.962  Electricity Net Generation From Coal, All Sectors   \n",
       "\n",
       "          Date  \n",
       "440 2005-01-01  \n",
       "441 2005-02-01  \n",
       "442 2005-03-01  \n",
       "443 2005-04-01  \n",
       "444 2005-05-01  "
      ]
     },
     "execution_count": 66,
     "metadata": {},
     "output_type": "execute_result"
    }
   ],
   "source": [
    "#format date to datetime objects \n",
    "US_electricity[\"Date\"]=pd.to_datetime(US_electricity[\"Date\"], format='%Y-%m-%d')\n",
    "\n",
    "US_electricity.head()"
   ]
  },
  {
   "cell_type": "code",
   "execution_count": 67,
   "metadata": {},
   "outputs": [],
   "source": [
    "#Grouping by renewable energy and crude oil \n",
    "#Renewable sources include : hydroelectric pumped storage, wood, waste, geothermal, solar, and wind\n",
    "#crude oil sources include: coal, petroleum, natural gas, other gases, and conventional hydroelectric power \n",
    "\n",
    "\n",
    "US_renewable = US_electricity.loc[ (US_electricity[\"Description\"] == \"Electricity Net Generation From Hydroelectric Pumped Storage, All Sectors\") | \n",
    "                                (US_electricity[\"Description\"] == \"Electricity Net Generation From Wood, All Sectors\") | \n",
    "                                (US_electricity[\"Description\"] == \"Electricity Net Generation From Waste, All Sectors\") |\n",
    "                               (US_electricity[\"Description\"] == \"Electricity Net Generation From Geothermal, All Sectors\") | \n",
    "                               (US_electricity[\"Description\"] == \"Electricity Net Generation From Solar, All Sectors\") | \n",
    "                               (US_electricity[\"Description\"] == \"Electricity Net Generation From Wind, All Sectors\")]\n",
    "\n",
    "US_oil = US_electricity.loc[(US_electricity[\"Description\"] == \"Electricity Net Generation From Coal, All Sectors\") |\n",
    "                            (US_electricity[\"Description\"] == \"Electricity Net Generation From Petroleum, All Sectors\") | \n",
    "                            (US_electricity[\"Description\"] == \"Electricity Net Generation From Natural Gas, All Sectors\") |\n",
    "                            (US_electricity[\"Description\"] == \"Electricity Net Generation From Other Gases, All Sectors\") |\n",
    "                            (US_electricity[\"Description\"] == \"Electricity Net Generation From Conventional Hydroelectric Power, All Sectors\")]\n"
   ]
  },
  {
   "cell_type": "code",
   "execution_count": 68,
   "metadata": {},
   "outputs": [],
   "source": [
    "# Cleaning data - need to remove top 30 rows in USD_data \n",
    "USD_data = USD_data.rename(columns = {\"Macrotrends Data Download\" : \"Date\", \n",
    "                                      \"Unnamed: 1\" : \"Value\"})\n",
    "rows = list(range(0,15))\n",
    "USD_data = USD_data.drop(rows)\n"
   ]
  },
  {
   "cell_type": "code",
   "execution_count": 69,
   "metadata": {},
   "outputs": [],
   "source": [
    "USD_data[\"Date\"]=pd.to_datetime(USD_data[\"Date\"], format='%Y-%m-%d')"
   ]
  },
  {
   "cell_type": "code",
   "execution_count": 70,
   "metadata": {},
   "outputs": [],
   "source": [
    "#isolating for 2005 to 2019 \n",
    "sdate = dt.datetime(2005,1,1)   # start date\n",
    "edate = dt.datetime(2019,12,30)   # end date\n",
    "\n",
    "USD_data = USD_data [(USD_data[\"Date\"]>=sdate ) & (USD_data[\"Date\"]<= edate)]\n"
   ]
  },
  {
   "cell_type": "code",
   "execution_count": 71,
   "metadata": {},
   "outputs": [
    {
     "data": {
      "text/html": [
       "<div>\n",
       "<style scoped>\n",
       "    .dataframe tbody tr th:only-of-type {\n",
       "        vertical-align: middle;\n",
       "    }\n",
       "\n",
       "    .dataframe tbody tr th {\n",
       "        vertical-align: top;\n",
       "    }\n",
       "\n",
       "    .dataframe thead th {\n",
       "        text-align: right;\n",
       "    }\n",
       "</style>\n",
       "<table border=\"1\" class=\"dataframe\">\n",
       "  <thead>\n",
       "    <tr style=\"text-align: right;\">\n",
       "      <th></th>\n",
       "      <th>Value (million kWh)</th>\n",
       "      <th>Description</th>\n",
       "    </tr>\n",
       "    <tr>\n",
       "      <th>Date</th>\n",
       "      <th></th>\n",
       "      <th></th>\n",
       "    </tr>\n",
       "  </thead>\n",
       "  <tbody>\n",
       "    <tr>\n",
       "      <th>2005-01-01</th>\n",
       "      <td>-725.387</td>\n",
       "      <td>Electricity Net Generation From Hydroelectric ...</td>\n",
       "    </tr>\n",
       "    <tr>\n",
       "      <th>2005-02-01</th>\n",
       "      <td>-345.608</td>\n",
       "      <td>Electricity Net Generation From Hydroelectric ...</td>\n",
       "    </tr>\n",
       "    <tr>\n",
       "      <th>2005-03-01</th>\n",
       "      <td>-496.889</td>\n",
       "      <td>Electricity Net Generation From Hydroelectric ...</td>\n",
       "    </tr>\n",
       "    <tr>\n",
       "      <th>2005-04-01</th>\n",
       "      <td>-337.538</td>\n",
       "      <td>Electricity Net Generation From Hydroelectric ...</td>\n",
       "    </tr>\n",
       "    <tr>\n",
       "      <th>2005-05-01</th>\n",
       "      <td>-466.254</td>\n",
       "      <td>Electricity Net Generation From Hydroelectric ...</td>\n",
       "    </tr>\n",
       "  </tbody>\n",
       "</table>\n",
       "</div>"
      ],
      "text/plain": [
       "           Value (million kWh)  \\\n",
       "Date                             \n",
       "2005-01-01            -725.387   \n",
       "2005-02-01            -345.608   \n",
       "2005-03-01            -496.889   \n",
       "2005-04-01            -337.538   \n",
       "2005-05-01            -466.254   \n",
       "\n",
       "                                                  Description  \n",
       "Date                                                           \n",
       "2005-01-01  Electricity Net Generation From Hydroelectric ...  \n",
       "2005-02-01  Electricity Net Generation From Hydroelectric ...  \n",
       "2005-03-01  Electricity Net Generation From Hydroelectric ...  \n",
       "2005-04-01  Electricity Net Generation From Hydroelectric ...  \n",
       "2005-05-01  Electricity Net Generation From Hydroelectric ...  "
      ]
     },
     "execution_count": 71,
     "metadata": {},
     "output_type": "execute_result"
    }
   ],
   "source": [
    "#setting date as index\n",
    "\n",
    "US_renewable = US_renewable.set_index(US_renewable[\"Date\"])\n",
    "US_renewable = US_renewable.drop(columns=[\"Date\"])\n",
    "US_renewable.head()"
   ]
  },
  {
   "cell_type": "code",
   "execution_count": 72,
   "metadata": {},
   "outputs": [
    {
     "data": {
      "text/html": [
       "<div>\n",
       "<style scoped>\n",
       "    .dataframe tbody tr th:only-of-type {\n",
       "        vertical-align: middle;\n",
       "    }\n",
       "\n",
       "    .dataframe tbody tr th {\n",
       "        vertical-align: top;\n",
       "    }\n",
       "\n",
       "    .dataframe thead th {\n",
       "        text-align: right;\n",
       "    }\n",
       "</style>\n",
       "<table border=\"1\" class=\"dataframe\">\n",
       "  <thead>\n",
       "    <tr style=\"text-align: right;\">\n",
       "      <th></th>\n",
       "      <th>Value (million kWh)</th>\n",
       "      <th>Description</th>\n",
       "    </tr>\n",
       "    <tr>\n",
       "      <th>Date</th>\n",
       "      <th></th>\n",
       "      <th></th>\n",
       "    </tr>\n",
       "  </thead>\n",
       "  <tbody>\n",
       "    <tr>\n",
       "      <th>2005-01-01</th>\n",
       "      <td>177013.907</td>\n",
       "      <td>Electricity Net Generation From Coal, All Sectors</td>\n",
       "    </tr>\n",
       "    <tr>\n",
       "      <th>2005-02-01</th>\n",
       "      <td>155818.014</td>\n",
       "      <td>Electricity Net Generation From Coal, All Sectors</td>\n",
       "    </tr>\n",
       "    <tr>\n",
       "      <th>2005-03-01</th>\n",
       "      <td>163612.7</td>\n",
       "      <td>Electricity Net Generation From Coal, All Sectors</td>\n",
       "    </tr>\n",
       "    <tr>\n",
       "      <th>2005-04-01</th>\n",
       "      <td>143083.239</td>\n",
       "      <td>Electricity Net Generation From Coal, All Sectors</td>\n",
       "    </tr>\n",
       "    <tr>\n",
       "      <th>2005-05-01</th>\n",
       "      <td>153957.962</td>\n",
       "      <td>Electricity Net Generation From Coal, All Sectors</td>\n",
       "    </tr>\n",
       "  </tbody>\n",
       "</table>\n",
       "</div>"
      ],
      "text/plain": [
       "           Value (million kWh)  \\\n",
       "Date                             \n",
       "2005-01-01          177013.907   \n",
       "2005-02-01          155818.014   \n",
       "2005-03-01            163612.7   \n",
       "2005-04-01          143083.239   \n",
       "2005-05-01          153957.962   \n",
       "\n",
       "                                                  Description  \n",
       "Date                                                           \n",
       "2005-01-01  Electricity Net Generation From Coal, All Sectors  \n",
       "2005-02-01  Electricity Net Generation From Coal, All Sectors  \n",
       "2005-03-01  Electricity Net Generation From Coal, All Sectors  \n",
       "2005-04-01  Electricity Net Generation From Coal, All Sectors  \n",
       "2005-05-01  Electricity Net Generation From Coal, All Sectors  "
      ]
     },
     "execution_count": 72,
     "metadata": {},
     "output_type": "execute_result"
    }
   ],
   "source": [
    "US_oil = US_oil.set_index(US_oil[\"Date\"])\n",
    "US_oil = US_oil.drop(columns=[\"Date\"])\n",
    "US_oil.head()"
   ]
  },
  {
   "cell_type": "code",
   "execution_count": 73,
   "metadata": {},
   "outputs": [
    {
     "data": {
      "text/html": [
       "<div>\n",
       "<style scoped>\n",
       "    .dataframe tbody tr th:only-of-type {\n",
       "        vertical-align: middle;\n",
       "    }\n",
       "\n",
       "    .dataframe tbody tr th {\n",
       "        vertical-align: top;\n",
       "    }\n",
       "\n",
       "    .dataframe thead th {\n",
       "        text-align: right;\n",
       "    }\n",
       "</style>\n",
       "<table border=\"1\" class=\"dataframe\">\n",
       "  <thead>\n",
       "    <tr style=\"text-align: right;\">\n",
       "      <th></th>\n",
       "      <th>Value</th>\n",
       "    </tr>\n",
       "    <tr>\n",
       "      <th>Date</th>\n",
       "      <th></th>\n",
       "    </tr>\n",
       "  </thead>\n",
       "  <tbody>\n",
       "    <tr>\n",
       "      <th>2005-01-01</th>\n",
       "      <td>95.45</td>\n",
       "    </tr>\n",
       "    <tr>\n",
       "      <th>2005-02-01</th>\n",
       "      <td>95.698</td>\n",
       "    </tr>\n",
       "    <tr>\n",
       "      <th>2005-03-01</th>\n",
       "      <td>95.307</td>\n",
       "    </tr>\n",
       "    <tr>\n",
       "      <th>2005-04-01</th>\n",
       "      <td>96.234</td>\n",
       "    </tr>\n",
       "    <tr>\n",
       "      <th>2005-05-01</th>\n",
       "      <td>96.47</td>\n",
       "    </tr>\n",
       "  </tbody>\n",
       "</table>\n",
       "</div>"
      ],
      "text/plain": [
       "             Value\n",
       "Date              \n",
       "2005-01-01   95.45\n",
       "2005-02-01  95.698\n",
       "2005-03-01  95.307\n",
       "2005-04-01  96.234\n",
       "2005-05-01   96.47"
      ]
     },
     "execution_count": 73,
     "metadata": {},
     "output_type": "execute_result"
    }
   ],
   "source": [
    "USD_data = USD_data.set_index(USD_data[\"Date\"])\n",
    "USD_data = USD_data.drop(columns=[\"Date\"])\n",
    "USD_data.head()"
   ]
  },
  {
   "cell_type": "code",
   "execution_count": 74,
   "metadata": {},
   "outputs": [],
   "source": [
    "#Exporting clean data set as CSV \n",
    "\n",
    "US_renewable.to_csv(r\"Resources\\Clean Data\\Table 2a.csv\", index=True)\n",
    "\n",
    "US_oil.to_csv(r\"Resources\\Clean Data\\Table 2b.csv\", index=True)\n",
    "\n",
    "USD_data.to_csv(r\"Resources\\Clean Data\\Table 3.csv\", index=True)"
   ]
  },
  {
   "cell_type": "code",
   "execution_count": null,
   "metadata": {},
   "outputs": [],
   "source": []
  }
 ],
 "metadata": {
  "kernelspec": {
   "display_name": "Python 3",
   "language": "python",
   "name": "python3"
  },
  "language_info": {
   "codemirror_mode": {
    "name": "ipython",
    "version": 3
   },
   "file_extension": ".py",
   "mimetype": "text/x-python",
   "name": "python",
   "nbconvert_exporter": "python",
   "pygments_lexer": "ipython3",
   "version": "3.8.3"
  }
 },
 "nbformat": 4,
 "nbformat_minor": 4
}
